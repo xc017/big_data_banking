{
  "cells": [
    {
      "cell_type": "markdown",
      "metadata": {
        "id": "tdXWoHJStgX5"
      },
      "source": [
        "# FIT5202 Assignment 2A : Building Models to Predict Loan Default\n",
        "\n",
        "## Table of Contents\n",
        "*  \n",
        "    * [Part 1 : Data Loading, Transformation and Exploration](#part-1)\n",
        "    * [Part 2 : Feature extraction and ML training](#part-2)\n",
        "    * [Part 3 : Applicant Segmentation and Knowledge sharing with K-Mean](#part-3)\n",
        "    * [Part 4 : Data Ethics, Privacy, and Security](#part-4)\n",
        "\n",
        "Please add code/markdown cells as you need."
      ]
    },
    {
      "cell_type": "markdown",
      "metadata": {
        "id": "VRWFoFYNtgX-"
      },
      "source": [
        "# Part 1: Data Loading, Transformation and Exploration <a class=\"anchor\" name=\"part-1\"></a>\n",
        "## 1.1 Data Loading\n",
        "In this section, you need to load the given datasets into PySpark DataFrames and use DataFrame functions to process the data, usage of Spark SQL is discouraged. You are allowed to use third-party libraries to format the output. For plotting, different visualisation packages can be used, please ensure that you have included instructions to install the additional packages and the installation will be successful in the provided docker container(in case your marker needs to clear the notebook and rerun it).\n",
        "\n",
        "### 1.1.1 Data Loading <a class=\"anchor\" name=\"1.1\"></a>\n",
        "Write the code to create a SparkSession. For creating the SparkSession, you need to use a SparkConf object to configure the Spark app with a proper application name, to ensure the maximum partition size does not exceed 20MB, and to run locally with 4 CPU cores on your machine. (2%)"
      ]
    },
    {
      "cell_type": "code",
      "execution_count": null,
      "metadata": {
        "id": "7DIuBAiVtgX_"
      },
      "outputs": [],
      "source": [
        "from pyspark import SparkConf\n",
        "\n",
        "# Set up spark to run locally with all available processors\n",
        "master = \"local[4]\"\n",
        "\n",
        "# Give the appropriate app name\n",
        "app_name = \"Assignment 2A\"\n",
        "\n",
        "# Set up configuration parameters for Spark\n",
        "spark_conf = SparkConf().setMaster(master).setAppName(app_name)\n",
        "\n",
        "# Import SparkContext and SparkSession classes\n",
        "from pyspark import SparkContext\n",
        "from pyspark.sql import SparkSession\n",
        "\n",
        "# Create a SparkSession using Melbourne time as the session timezone\n",
        "spark = SparkSession.builder.config(conf=spark_conf) \\\n",
        "    .config(\"spark.sql.session.timeZone\", \"Australia/Melbourne\") \\\n",
        "    .getOrCreate()\n",
        "\n",
        "# Create a SparkContext object using SparkSession\n",
        "sc = spark.sparkContext\n",
        "\n",
        "# Set log level to ERROR\n",
        "sc.setLogLevel('ERROR')"
      ]
    },
    {
      "cell_type": "code",
      "execution_count": null,
      "metadata": {
        "id": "048aZ42etgYB"
      },
      "outputs": [],
      "source": [
        "## Import module\n",
        "\n",
        "from pyspark.sql.types import IntegerType\n",
        "from pyspark.sql.types import FloatType\n",
        "from pyspark.sql.types import StringType\n",
        "from pyspark.sql.types import LongType\n",
        "from pyspark.sql.types import DateType\n",
        "\n",
        "from pyspark.sql.functions import col\n",
        "from pyspark.sql.functions import round as round_\n",
        "from pyspark.sql.functions import lit\n",
        "from pyspark.sql.functions import udf\n",
        "from pyspark.sql.functions import when\n",
        "from pyspark.sql.functions import sum as sum_\n",
        "\n",
        "from datetime import datetime, timedelta\n",
        "\n",
        "import pandas as pd\n",
        "import numpy as np\n",
        "\n",
        "import matplotlib.pyplot as plt\n",
        "%matplotlib inline\n",
        "\n",
        "from pyspark.ml import Pipeline\n",
        "from pyspark.ml.feature import StringIndexer, OneHotEncoder, VectorAssembler\n",
        "\n",
        "from pyspark.ml.classification import RandomForestClassifier, GBTClassifier\n",
        "\n",
        "from pyspark.ml.evaluation import BinaryClassificationEvaluator\n",
        "from pyspark.ml.evaluation import ClusteringEvaluator\n",
        "\n",
        "from pyspark.mllib.evaluation import BinaryClassificationMetrics\n",
        "\n",
        "from pyspark.ml.feature import StandardScaler\n",
        "from pyspark.ml.clustering import KMeans"
      ]
    },
    {
      "cell_type": "markdown",
      "metadata": {
        "id": "becvm1r5tgYC"
      },
      "source": [
        "1.1.2 Write code to define the schemas for previous_application and application_data, following the data types suggested in the metadata file. (3%)"
      ]
    },
    {
      "cell_type": "code",
      "execution_count": null,
      "metadata": {
        "id": "lMubOTYwtgYC"
      },
      "outputs": [],
      "source": [
        "# Define schemas for previous_application following metadata file\n",
        "columns_to_cast_previous_application = {\n",
        "    \"id\": LongType(),\n",
        "    \"id_app\": IntegerType(),\n",
        "    \"contract_type\": IntegerType(),\n",
        "    \"hour_appr_process_start\": IntegerType(),\n",
        "    \"channel_type\": StringType(),\n",
        "    \"nflag_insured_on_approval\": FloatType(),\n",
        "    \"days_decision\": FloatType(),\n",
        "    \"days_first_drawing\": FloatType(),\n",
        "    \"days_first_due\": FloatType(),\n",
        "    \"days_last_due_1st_version\": FloatType(),\n",
        "    \"days_last_due\": FloatType(),\n",
        "    \"days_termination\": FloatType(),\n",
        "    \"rate_down_payment\": FloatType(),\n",
        "    \"rate_interest_primary\": FloatType(),\n",
        "    \"rate_interest_privileged\": FloatType(),\n",
        "    \"amt_annuity\": FloatType(),\n",
        "    \"amt_application\": FloatType(),\n",
        "    \"amt_credit\": FloatType(),\n",
        "    \"amt_down_payment\": FloatType(),\n",
        "    \"amt_goods_price\": FloatType(),\n",
        "    \"name_cash_loan_purpose\": StringType(),\n",
        "    \"name_contract_status\": StringType(),\n",
        "    \"name_payment_type\": StringType(),\n",
        "    \"code_rejection_reason\": StringType(),\n",
        "    \"name_type_suite\": StringType(),\n",
        "    \"name_client_type\": StringType(),\n",
        "    \"name_goods_category\": StringType(),\n",
        "    \"name_portfolio\": StringType(),\n",
        "    \"name_product_type\": StringType(),\n",
        "    \"sellerplace_area\": IntegerType(),\n",
        "    \"name_seller_industry\": StringType(),\n",
        "    \"cnt_payment\": FloatType(),\n",
        "    \"name_yield_group\": StringType(),\n",
        "    \"product_combination\": StringType()\n",
        "}\n",
        "\n",
        "# Define schemas for application_data following metadata file\n",
        "columns_to_cast_application = {\n",
        "    \"id_app\": IntegerType(),\n",
        "    \"target\": IntegerType(),\n",
        "    \"contract_type\": IntegerType(),\n",
        "    \"gender\": StringType(),\n",
        "    \"own_car\": StringType(),\n",
        "    \"own_property\": StringType(),\n",
        "    \"num_of_children\": IntegerType(),\n",
        "    \"income_total\": FloatType(),\n",
        "    \"amt_credit\": FloatType(),\n",
        "    \"amt_annuity\": FloatType(),\n",
        "    \"amt_goods_price\": FloatType(),\n",
        "    \"income_type\": IntegerType(),\n",
        "    \"education_type\": IntegerType(),\n",
        "    \"family_status\": IntegerType(),\n",
        "    \"housing_type\": IntegerType(),\n",
        "    \"region_population\": FloatType(),\n",
        "    \"days_birth\": IntegerType(),\n",
        "    \"days_employed\": IntegerType(),\n",
        "    \"own_car_age\": FloatType(),\n",
        "    \"flag_mobile\": IntegerType(),\n",
        "    \"flag_emp_phone\": IntegerType(),\n",
        "    \"flag_work_phone\": IntegerType(),\n",
        "    \"flag_cont_mobile\": IntegerType(),\n",
        "    \"flag_phone\": IntegerType(),\n",
        "    \"flag_email\": IntegerType(),\n",
        "    \"occupation_type\": IntegerType(),\n",
        "    \"cnt_fam_members\": FloatType(),\n",
        "    \"weekday_app_process_start\": StringType(),\n",
        "    \"hour_app_process_start\": IntegerType(),\n",
        "    \"organization_type\": IntegerType(),\n",
        "    \"credit_score_1\": FloatType(),\n",
        "    \"credit_score_2\": FloatType(),\n",
        "    \"credit_score_3\": FloatType(),\n",
        "    \"days_last_phone_change\": IntegerType(),\n",
        "    \"amt_credit_req_last_hour\": FloatType(),\n",
        "    \"amt_credit_req_last_day\": FloatType(),\n",
        "    \"amt_credit_req_last_week\": FloatType(),\n",
        "    \"amt_credit_req_last_month\": FloatType(),\n",
        "    \"amt_credit_req_last_quarter\": FloatType(),\n",
        "    \"amt_credit_req_last_year\": FloatType()\n",
        "}"
      ]
    },
    {
      "cell_type": "markdown",
      "metadata": {
        "id": "uSQja5Z_tgYE"
      },
      "source": [
        "1.1.3 Using your schemas from step 2, write code to load all CSV files into separate data frames(note: value_dict and loan_default are simple and don’t need schemas). Print the schemas of all data frames. (2%)"
      ]
    },
    {
      "cell_type": "code",
      "execution_count": null,
      "metadata": {
        "id": "i8BtdgjytgYF",
        "outputId": "54bed0be-3366-4db7-e8f3-78983f0ab73b"
      },
      "outputs": [
        {
          "name": "stdout",
          "output_type": "stream",
          "text": [
            "root\n",
            " |-- id_app: integer (nullable = true)\n",
            " |-- contract_type: integer (nullable = true)\n",
            " |-- amt_annuity: float (nullable = true)\n",
            " |-- amt_application: float (nullable = true)\n",
            " |-- amt_credit: float (nullable = true)\n",
            " |-- amt_down_payment: float (nullable = true)\n",
            " |-- amt_goods_price: float (nullable = true)\n",
            " |-- hour_appr_process_start: integer (nullable = true)\n",
            " |-- rate_down_payment: float (nullable = true)\n",
            " |-- rate_interest_primary: float (nullable = true)\n",
            " |-- rate_interest_privileged: float (nullable = true)\n",
            " |-- name_cash_loan_purpose: string (nullable = true)\n",
            " |-- name_contract_status: string (nullable = true)\n",
            " |-- days_decision: float (nullable = true)\n",
            " |-- name_payment_type: string (nullable = true)\n",
            " |-- code_rejection_reason: string (nullable = true)\n",
            " |-- name_type_suite: string (nullable = true)\n",
            " |-- name_client_type: string (nullable = true)\n",
            " |-- name_goods_category: string (nullable = true)\n",
            " |-- name_portfolio: string (nullable = true)\n",
            " |-- name_product_type: string (nullable = true)\n",
            " |-- channel_type: string (nullable = true)\n",
            " |-- sellerplace_area: integer (nullable = true)\n",
            " |-- name_seller_industry: string (nullable = true)\n",
            " |-- cnt_payment: float (nullable = true)\n",
            " |-- name_yield_group: string (nullable = true)\n",
            " |-- product_combination: string (nullable = true)\n",
            " |-- days_first_drawing: float (nullable = true)\n",
            " |-- days_first_due: float (nullable = true)\n",
            " |-- days_last_due_1st_version: float (nullable = true)\n",
            " |-- days_last_due: float (nullable = true)\n",
            " |-- days_termination: float (nullable = true)\n",
            " |-- nflag_insured_on_approval: float (nullable = true)\n",
            " |-- id: long (nullable = true)\n",
            "\n"
          ]
        }
      ],
      "source": [
        "# Load the previous_application file into dataframe\n",
        "df_previous_application = spark.read.csv(\"previous_application.csv\",header=True)\n",
        "\n",
        "# Cast schema datatype to the dataframe\n",
        "for column, data_type in columns_to_cast_previous_application.items():\n",
        "    df_previous_application = df_previous_application.withColumn(column, col(column).cast(data_type))\n",
        "\n",
        "# Print schema\n",
        "df_previous_application.printSchema()"
      ]
    },
    {
      "cell_type": "code",
      "execution_count": null,
      "metadata": {
        "id": "qdUjDUBVtgYH",
        "outputId": "ffaee707-b848-4636-e19a-85a90abc9c93"
      },
      "outputs": [
        {
          "name": "stdout",
          "output_type": "stream",
          "text": [
            "root\n",
            " |-- id_app: integer (nullable = true)\n",
            " |-- target: integer (nullable = true)\n",
            " |-- contract_type: integer (nullable = true)\n",
            " |-- gender: string (nullable = true)\n",
            " |-- own_car: string (nullable = true)\n",
            " |-- own_property: string (nullable = true)\n",
            " |-- num_of_children: integer (nullable = true)\n",
            " |-- income_total: float (nullable = true)\n",
            " |-- amt_credit: float (nullable = true)\n",
            " |-- amt_annuity: float (nullable = true)\n",
            " |-- amt_goods_price: float (nullable = true)\n",
            " |-- income_type: integer (nullable = true)\n",
            " |-- education_type: integer (nullable = true)\n",
            " |-- family_status: integer (nullable = true)\n",
            " |-- housing_type: integer (nullable = true)\n",
            " |-- region_population: float (nullable = true)\n",
            " |-- days_birth: integer (nullable = true)\n",
            " |-- days_employed: integer (nullable = true)\n",
            " |-- own_car_age: float (nullable = true)\n",
            " |-- flag_mobile: integer (nullable = true)\n",
            " |-- flag_emp_phone: integer (nullable = true)\n",
            " |-- flag_work_phone: integer (nullable = true)\n",
            " |-- flag_cont_mobile: integer (nullable = true)\n",
            " |-- flag_phone: integer (nullable = true)\n",
            " |-- flag_email: integer (nullable = true)\n",
            " |-- occupation_type: integer (nullable = true)\n",
            " |-- cnt_fam_members: float (nullable = true)\n",
            " |-- weekday_app_process_start: string (nullable = true)\n",
            " |-- hour_app_process_start: integer (nullable = true)\n",
            " |-- organization_type: integer (nullable = true)\n",
            " |-- credit_score_1: float (nullable = true)\n",
            " |-- credit_score_2: float (nullable = true)\n",
            " |-- credit_score_3: float (nullable = true)\n",
            " |-- days_last_phone_change: integer (nullable = true)\n",
            " |-- amt_credit_req_last_hour: float (nullable = true)\n",
            " |-- amt_credit_req_last_day: float (nullable = true)\n",
            " |-- amt_credit_req_last_week: float (nullable = true)\n",
            " |-- amt_credit_req_last_month: float (nullable = true)\n",
            " |-- amt_credit_req_last_quarter: float (nullable = true)\n",
            " |-- amt_credit_req_last_year: float (nullable = true)\n",
            "\n"
          ]
        }
      ],
      "source": [
        "# Load the application_data file into dataframe\n",
        "df_application = spark.read.csv(\"application_data.csv\",header=True)\n",
        "\n",
        "# Cast schema datatype to the dataframe\n",
        "for column, data_type in columns_to_cast_application.items():\n",
        "    df_application = df_application.withColumn(column, col(column).cast(data_type))\n",
        "\n",
        "# Print schema\n",
        "df_application.printSchema()"
      ]
    },
    {
      "cell_type": "code",
      "execution_count": null,
      "metadata": {
        "id": "9lJt7Os1tgYK",
        "outputId": "bb3ed607-1a7d-4a08-a0d1-949eefff3d7a"
      },
      "outputs": [
        {
          "name": "stdout",
          "output_type": "stream",
          "text": [
            "root\n",
            " |-- id: string (nullable = true)\n",
            " |-- category: string (nullable = true)\n",
            " |-- key: string (nullable = true)\n",
            " |-- value: string (nullable = true)\n",
            "\n"
          ]
        }
      ],
      "source": [
        "# Load value_dict into data frame\n",
        "df_value_dict = spark.read.csv(\"value_dict.csv\",header=True)\n",
        "\n",
        "# Print schema\n",
        "df_value_dict.printSchema()"
      ]
    },
    {
      "cell_type": "code",
      "execution_count": null,
      "metadata": {
        "id": "AZj_a_ubtgYL",
        "outputId": "ca582114-4e76-4c9d-ddc8-16dc2007e730"
      },
      "outputs": [
        {
          "name": "stdout",
          "output_type": "stream",
          "text": [
            "root\n",
            " |-- id_app: string (nullable = true)\n",
            " |-- is_default: string (nullable = true)\n",
            "\n"
          ]
        }
      ],
      "source": [
        "# Load loan_default into data frame\n",
        "df_loan_default = spark.read.csv(\"loan_default.csv\",header=True)\n",
        "\n",
        "# Print schema\n",
        "df_loan_default.printSchema()"
      ]
    },
    {
      "cell_type": "markdown",
      "metadata": {
        "id": "e2nMhrY3tgYM"
      },
      "source": [
        "### 1.2 Data Transformation and Create Features <a class=\"anchor\" name=\"1.2\"></a>\n",
        "In this step, we’re going to perform data transformation and create some new features using existing information. (note: you are allowed to use your own code from assignment 1 for some transformation.)  \n",
        "Perform the following tasks on the application_data data frame:"
      ]
    },
    {
      "cell_type": "markdown",
      "metadata": {
        "id": "X3WYATuwtgYN"
      },
      "source": [
        "1.2.1 Create a new column called loan_to_income_ratio(loan to income ratio) defined as amt_credit/income_total."
      ]
    },
    {
      "cell_type": "code",
      "execution_count": null,
      "metadata": {
        "id": "Y_GjeBoetgYO",
        "outputId": "28d18bb0-31d9-47a5-a2e3-4be51bec6281"
      },
      "outputs": [
        {
          "name": "stdout",
          "output_type": "stream",
          "text": [
            "+------+----------+------------+--------------------+\n",
            "|id_app|amt_credit|income_total|loan_to_income_ratio|\n",
            "+------+----------+------------+--------------------+\n",
            "|118100|  667237.5|    247500.0|              2.6959|\n",
            "|110133| 1374480.0|    112500.0|             12.2176|\n",
            "|110215|  545040.0|    166500.0|              3.2735|\n",
            "|194051|  900000.0|    112500.0|                 8.0|\n",
            "|110368| 1237684.5|    261000.0|              4.7421|\n",
            "|110498|  179865.0|    157500.0|               1.142|\n",
            "|110561| 1256400.0|    157500.0|              7.9771|\n",
            "|110836|  454500.0|    126000.0|              3.6071|\n",
            "|110985|  454500.0|     76500.0|              5.9412|\n",
            "|109621|  513531.0|     67500.0|              7.6079|\n",
            "|111097|  343800.0|    180000.0|                1.91|\n",
            "|111245|  612612.0|    157500.0|              3.8896|\n",
            "|111288| 1125000.0|    202500.0|              5.5556|\n",
            "|165103|  675000.0|    135000.0|                 5.0|\n",
            "|111444|  308133.0|     94500.0|              3.2607|\n",
            "|111509|  808650.0|     90000.0|               8.985|\n",
            "|111556|  927000.0|    315000.0|              2.9429|\n",
            "|111642|  976711.5|    270000.0|              3.6175|\n",
            "|111869|  277969.5|    135000.0|               2.059|\n",
            "|158585|  545040.0|     90000.0|               6.056|\n",
            "+------+----------+------------+--------------------+\n",
            "only showing top 20 rows\n",
            "\n"
          ]
        }
      ],
      "source": [
        "# Create loan_to_income_ratio as amt_credit/income_total\n",
        "df_application = df_application.withColumn(\"loan_to_income_ratio\", round_(col(\"amt_credit\")/col(\"income_total\"), 4))\n",
        "\n",
        "# Display the result\n",
        "df_application.select(\"id_app\", \"amt_credit\", \"income_total\", \"loan_to_income_ratio\").show()"
      ]
    },
    {
      "cell_type": "markdown",
      "metadata": {
        "id": "t87qbzXDtgYO"
      },
      "source": [
        "1.2.2. Perform age bucketing and create a new string column called age_bucket and set the value below:  \n",
        "age < 25: Y  \n",
        "25 <= age <35: E  \n",
        "35 <= age <45: M  \n",
        "45 <= age < 55: L  \n",
        "55 <= age < 65: N  \n",
        "Age >= 65: R"
      ]
    },
    {
      "cell_type": "code",
      "execution_count": null,
      "metadata": {
        "id": "eO_omFb_tgYO"
      },
      "outputs": [],
      "source": [
        "## Reuse date_calculator and age_calculator function from assignment 1\n",
        "\n",
        "# This function takes a base date and a relative number to calculate the target date\n",
        "def date_calculator(base_date, relative_number):\n",
        "    base_date = str(base_date)\n",
        "\n",
        "    if relative_number is None:\n",
        "        return base_date\n",
        "    else:\n",
        "        relative_number = int(relative_number)\n",
        "        base_date_datetime = datetime.strptime(base_date, \"%d/%m/%Y\")\n",
        "        result_date = base_date_datetime + timedelta(days = relative_number)\n",
        "        return result_date.date()\n",
        "\n",
        "# This function takes birthdate and current_date to generate age\n",
        "def age_calculator(birthdate, current_date):\n",
        "        if birthdate is not None:\n",
        "            current_date = datetime.strptime(current_date, \"%d/%m/%Y\")\n",
        "            age = current_date.year - birthdate.year - ((current_date.month, current_date.day) < (birthdate.month, birthdate.day))\n",
        "            return age\n",
        "        else:\n",
        "            return None\n",
        "\n",
        "# This function takes age and produce age bucket value\n",
        "def age_bucket(age):\n",
        "    age = int(age)\n",
        "    if age < 25:\n",
        "        age_bucket = \"Y\"\n",
        "    elif age < 35:\n",
        "        age_bucket = \"E\"\n",
        "    elif age < 45:\n",
        "        age_bucket = \"M\"\n",
        "    elif age < 55:\n",
        "        age_bucket = \"L\"\n",
        "    elif age < 65:\n",
        "        age_bucket = \"N\"\n",
        "    else:\n",
        "        age_bucket = \"R\"\n",
        "    return age_bucket"
      ]
    },
    {
      "cell_type": "code",
      "execution_count": null,
      "metadata": {
        "id": "etFkFQ4ItgYQ",
        "outputId": "d9157630-1dab-4003-eca4-8d39636435d2"
      },
      "outputs": [
        {
          "name": "stdout",
          "output_type": "stream",
          "text": [
            "+------+----------+----------+---+----------+\n",
            "|id_app|days_birth|  birthday|age|age_bucket|\n",
            "+------+----------+----------+---+----------+\n",
            "|118100|    -11258|1993-04-08| 30|         E|\n",
            "|110133|    -11044|1993-11-08| 30|         E|\n",
            "|110215|    -17115|1977-03-26| 46|         L|\n",
            "|194051|    -17855|1975-03-17| 48|         L|\n",
            "|110368|    -22818|1961-08-14| 62|         N|\n",
            "|110498|    -21183|1966-02-04| 57|         N|\n",
            "|110561|     -9537|1997-12-24| 26|         E|\n",
            "|110836|    -13351|1987-07-16| 36|         M|\n",
            "|110985|    -16847|1977-12-19| 46|         L|\n",
            "|109621|    -10828|1994-06-12| 29|         E|\n",
            "|111097|    -18279|1974-01-17| 50|         L|\n",
            "|111245|    -19710|1970-02-16| 53|         L|\n",
            "|111288|    -11636|1992-03-26| 31|         E|\n",
            "|165103|    -12011|1991-03-17| 32|         E|\n",
            "|111444|    -13402|1987-05-26| 36|         M|\n",
            "|111509|    -19869|1969-09-10| 54|         L|\n",
            "|111556|    -17096|1977-04-14| 46|         L|\n",
            "|111642|    -17354|1976-07-30| 47|         L|\n",
            "|111869|    -21198|1966-01-20| 58|         N|\n",
            "|158585|    -11897|1991-07-09| 32|         E|\n",
            "+------+----------+----------+---+----------+\n",
            "only showing top 20 rows\n",
            "\n"
          ]
        }
      ],
      "source": [
        "## Calculate birthday\n",
        "current_date = datetime.today().strftime(\"%d/%m/%Y\")\n",
        "\n",
        "# Register date_calculator as udf\n",
        "date_calculator_udf = udf(date_calculator, DateType())\n",
        "\n",
        "# Generate birthdate\n",
        "df_application = df_application.withColumn(\"birthday\", date_calculator_udf(lit(current_date), col(\"days_birth\")))\n",
        "\n",
        "## Calculate age\n",
        "\n",
        "# Register age_calculator as udf\n",
        "age_calculator_udf = udf(age_calculator, IntegerType())\n",
        "\n",
        "# Generate age\n",
        "df_application = df_application.withColumn(\"age\", age_calculator_udf(col(\"birthday\"), lit(current_date)))\n",
        "\n",
        "## Calculate age_bucket\n",
        "\n",
        "# Register age_bucket as udf\n",
        "age_bucket_udf = udf(age_bucket, StringType())\n",
        "\n",
        "# Generate age bucket\n",
        "df_application = df_application.withColumn(\"age_bucket\", age_bucket_udf(col(\"age\")))\n",
        "\n",
        "df_application.select(\"id_app\", \"days_birth\", \"birthday\", \"age\", \"age_bucket\").show()"
      ]
    },
    {
      "cell_type": "markdown",
      "metadata": {
        "id": "tD_LJoNttgYQ"
      },
      "source": [
        "1.2.3 Create a new string column named credit_worthiness. It takes the average value of credit_score_1,2,3 (note: replace null value with 0.5, not 0). If the average >= 0.7, set credit_worthiness to “high”; 0.4 <= average <= 0.7 set to “medium”, < 0.4 set to “low”."
      ]
    },
    {
      "cell_type": "code",
      "execution_count": null,
      "metadata": {
        "id": "7-2FD8FRtgYQ"
      },
      "outputs": [],
      "source": [
        "# This function assigns credit worthiness bucket to avarage credit score\n",
        "def credit_bucket(credit_average):\n",
        "    credit_average = float(credit_average)\n",
        "    if credit_average < 0.4:\n",
        "        credit_bucket = \"low\"\n",
        "    elif credit_average < 0.7:\n",
        "        credit_bucket = \"medium\"\n",
        "    else:\n",
        "        credit_bucket = \"high\"\n",
        "\n",
        "    return credit_bucket"
      ]
    },
    {
      "cell_type": "code",
      "execution_count": null,
      "metadata": {
        "id": "Y3BBmtNAtgYR",
        "outputId": "52bb7efc-5534-4ee1-9755-2324acc71f75"
      },
      "outputs": [
        {
          "name": "stdout",
          "output_type": "stream",
          "text": [
            "+------+--------------------+-------------+\n",
            "|id_app|average_credit_score|credit_bucket|\n",
            "+------+--------------------+-------------+\n",
            "|118100|              0.5661|       medium|\n",
            "|110133|              0.6316|       medium|\n",
            "|110215|              0.5173|       medium|\n",
            "|194051|              0.5719|       medium|\n",
            "|110368|              0.5137|       medium|\n",
            "|110498|              0.3842|          low|\n",
            "|110561|              0.3959|          low|\n",
            "|110836|              0.6202|       medium|\n",
            "|110985|               0.398|          low|\n",
            "|109621|              0.4005|       medium|\n",
            "|111097|              0.4679|       medium|\n",
            "|111245|              0.5546|       medium|\n",
            "|111288|              0.5762|       medium|\n",
            "|165103|              0.4997|       medium|\n",
            "|111444|              0.4232|       medium|\n",
            "|111509|              0.7193|         high|\n",
            "|111556|              0.4272|       medium|\n",
            "|111642|              0.6035|       medium|\n",
            "|111869|              0.4785|       medium|\n",
            "|158585|              0.4458|       medium|\n",
            "+------+--------------------+-------------+\n",
            "only showing top 20 rows\n",
            "\n"
          ]
        }
      ],
      "source": [
        "## Reuse code from assignment 1\n",
        "# Replace null value in credit score columns\n",
        "df_application = df_application.withColumn(\"credit_score_1\", when(col(\"credit_score_1\").isNull(), 0.5).otherwise(col(\"credit_score_1\")))\n",
        "df_application = df_application.withColumn(\"credit_score_2\", when(col(\"credit_score_2\").isNull(), 0.5).otherwise(col(\"credit_score_2\")))\n",
        "df_application = df_application.withColumn(\"credit_score_3\", when(col(\"credit_score_3\").isNull(), 0.5).otherwise(col(\"credit_score_3\")))\n",
        "\n",
        "# Calculate average credit score\n",
        "df_application = (df_application\n",
        "                  .withColumn(\"average_credit_score\", (col(\"credit_score_1\") + col(\"credit_score_2\") + col(\"credit_score_3\"))/3)\n",
        "                  .withColumn(\"average_credit_score\", round_(col(\"average_credit_score\"), 4))\n",
        "                 )\n",
        "\n",
        "\n",
        "\n",
        "## Calculate credit_bucket\n",
        "\n",
        "# Register credit_bucket as udf\n",
        "credit_bucket_udf = udf(credit_bucket, StringType())\n",
        "\n",
        "# Generate age bucket\n",
        "df_application = df_application.withColumn(\"credit_bucket\", credit_bucket_udf(col(\"average_credit_score\")))\n",
        "\n",
        "\n",
        "# Display the result\n",
        "df_application.select(\"id_app\", \"average_credit_score\", \"credit_bucket\").show()"
      ]
    },
    {
      "cell_type": "markdown",
      "metadata": {
        "id": "wZRPXraJtgYR"
      },
      "source": [
        "1.2.4 Create 4 columns: num_of_prev_app(number of previous applications), num_of_approved_app (number of approved applications), total_credit (sum of credit of all approved previous applications), total_credit_to_income_ratio (total credit/income).  (note: you need to join previous applications to fill in the values.)"
      ]
    },
    {
      "cell_type": "code",
      "execution_count": null,
      "metadata": {
        "id": "-eaBIdfMtgYR",
        "outputId": "41cd72f2-91f7-4693-809e-daa1b2349386"
      },
      "outputs": [
        {
          "name": "stdout",
          "output_type": "stream",
          "text": [
            "+------+---------------+\n",
            "|id_app|num_of_prev_app|\n",
            "+------+---------------+\n",
            "|118100|              7|\n",
            "|110133|              3|\n",
            "|110215|              8|\n",
            "|194051|              5|\n",
            "|110368|              2|\n",
            "|110498|              8|\n",
            "|110561|              3|\n",
            "|110836|              2|\n",
            "|110985|              9|\n",
            "|109621|              2|\n",
            "|111097|              1|\n",
            "|111245|              0|\n",
            "|111288|              7|\n",
            "|165103|              3|\n",
            "|111444|              2|\n",
            "|111509|              3|\n",
            "|111556|              3|\n",
            "|111642|              7|\n",
            "|111869|              4|\n",
            "|158585|              2|\n",
            "+------+---------------+\n",
            "only showing top 20 rows\n",
            "\n"
          ]
        }
      ],
      "source": [
        "## num_of_prev_app(number of previous applications)\n",
        "\n",
        "# Get the number of previous applications\n",
        "df_num_of_prev_app = (df_previous_application\n",
        "                      .groupBy(\"id_app\")\n",
        "                      .count()\n",
        "                     )\n",
        "\n",
        "# Join the number of previous applications with application\n",
        "# For those without previous application, set the count to 0\n",
        "df_application = (df_application\n",
        "                  .join(df_num_of_prev_app, df_application.id_app == df_num_of_prev_app.id_app, \"left_outer\")\n",
        "                  .drop(df_num_of_prev_app[\"id_app\"])\n",
        "                  .withColumnRenamed(\"count\", \"num_of_prev_app\")\n",
        "                  .withColumn(\"num_of_prev_app\", when(col(\"num_of_prev_app\").isNull(), 0).otherwise(col(\"num_of_prev_app\")))\n",
        "                 )\n",
        "\n",
        "# Display the result\n",
        "df_application.select(\"id_app\", \"num_of_prev_app\").show()"
      ]
    },
    {
      "cell_type": "code",
      "execution_count": null,
      "metadata": {
        "id": "aozknq1ztgYR",
        "outputId": "91fcc88e-a7a8-4694-b40c-c89accfc0d52"
      },
      "outputs": [
        {
          "name": "stdout",
          "output_type": "stream",
          "text": [
            "+------+-------------------+\n",
            "|id_app|num_of_approved_app|\n",
            "+------+-------------------+\n",
            "|118100|                  2|\n",
            "|110133|                  3|\n",
            "|110215|                  2|\n",
            "|194051|                  3|\n",
            "|110368|                  2|\n",
            "|110498|                  5|\n",
            "|110561|                  2|\n",
            "|110836|                  2|\n",
            "|110985|                  3|\n",
            "|109621|                  2|\n",
            "|111097|                  1|\n",
            "|111245|                  0|\n",
            "|111288|                  7|\n",
            "|165103|                  2|\n",
            "|111444|                  2|\n",
            "|111509|                  1|\n",
            "|111556|                  3|\n",
            "|111642|                  7|\n",
            "|111869|                  1|\n",
            "|158585|                  1|\n",
            "+------+-------------------+\n",
            "only showing top 20 rows\n",
            "\n"
          ]
        }
      ],
      "source": [
        "## num_of_approved_app (number of approved applications)\n",
        "\n",
        "# Get the number of approved applications\n",
        "df_num_of_approved_app = (df_previous_application\n",
        "                          .filter(col(\"name_contract_status\") == \"Approved\")\n",
        "                          .groupBy(\"id_app\")\n",
        "                          .count()\n",
        "                         )\n",
        "\n",
        "# Join the number of approved applications with application\n",
        "# For those without approved applications, set the count to 0\n",
        "df_application = (df_application\n",
        "                  .join(df_num_of_approved_app, df_application.id_app == df_num_of_approved_app.id_app, \"left_outer\")\n",
        "                  .drop(df_num_of_approved_app[\"id_app\"])\n",
        "                  .withColumnRenamed(\"count\", \"num_of_approved_app\")\n",
        "                  .withColumn(\"num_of_approved_app\", when(col(\"num_of_approved_app\").isNull(), 0).otherwise(col(\"num_of_approved_app\")))\n",
        "                 )\n",
        "\n",
        "# Display the result\n",
        "df_application.select(\"id_app\", \"num_of_approved_app\").show()"
      ]
    },
    {
      "cell_type": "code",
      "execution_count": null,
      "metadata": {
        "scrolled": true,
        "id": "X8z8yzPatgYS",
        "outputId": "12431c47-cb6d-4b52-9b24-5698a2df97d5"
      },
      "outputs": [
        {
          "name": "stdout",
          "output_type": "stream",
          "text": [
            "+------+------------+\n",
            "|id_app|total_credit|\n",
            "+------+------------+\n",
            "|118100|    381577.5|\n",
            "|110133|    238765.5|\n",
            "|110215|    248575.5|\n",
            "|194051|    300118.5|\n",
            "|110368|   1428313.5|\n",
            "|110498|   2067736.5|\n",
            "|110561|    159034.5|\n",
            "|110836|     55183.5|\n",
            "|110985|    220329.0|\n",
            "|109621|    219226.5|\n",
            "|111097|    225000.0|\n",
            "|111245|         0.0|\n",
            "|111288|    402039.0|\n",
            "|165103|    579438.0|\n",
            "|111444|     98595.0|\n",
            "|111509|     90000.0|\n",
            "|111556|    150376.5|\n",
            "|111642|   1900228.5|\n",
            "|111869|    254700.0|\n",
            "|158585|     35208.0|\n",
            "+------+------------+\n",
            "only showing top 20 rows\n",
            "\n"
          ]
        }
      ],
      "source": [
        "## total_credit (sum of credit of all approved previous applications)\n",
        "\n",
        "# Get the sum of credit of all approved previous applications\n",
        "df_total_credit = (df_previous_application\n",
        "                   .filter(col(\"name_contract_status\") == \"Approved\")\n",
        "                   .groupBy(\"id_app\")\n",
        "                   .agg(sum_(\"amt_credit\").alias(\"total_credit\"))\n",
        "                   .withColumn(\"total_credit\", round_(col(\"total_credit\"), 1))\n",
        "                  )\n",
        "\n",
        "# Join the sum of credit of all approved previous applications with application\n",
        "# For those without approved previous applications, set the amount to 0\n",
        "df_application = (df_application\n",
        "                  .join(df_total_credit, df_application.id_app == df_total_credit.id_app, \"left_outer\")\n",
        "                  .drop(df_total_credit[\"id_app\"])\n",
        "                  .withColumn(\"total_credit\", when(col(\"total_credit\").isNull(), 0).otherwise(col(\"total_credit\")))\n",
        "                 )\n",
        "\n",
        "# Display the result\n",
        "df_application.select(\"id_app\", \"total_credit\").show()"
      ]
    },
    {
      "cell_type": "code",
      "execution_count": null,
      "metadata": {
        "id": "JeWEImRltgYS",
        "outputId": "17390922-5dfc-4949-c4c9-e66eb0300b34"
      },
      "outputs": [
        {
          "name": "stdout",
          "output_type": "stream",
          "text": [
            "+------+----------------------------+\n",
            "|id_app|total_credit_to_income_ratio|\n",
            "+------+----------------------------+\n",
            "|118100|                        1.54|\n",
            "|110133|                        2.12|\n",
            "|110215|                        1.49|\n",
            "|194051|                        2.67|\n",
            "|110368|                        5.47|\n",
            "|110498|                       13.13|\n",
            "|110561|                        1.01|\n",
            "|110836|                        0.44|\n",
            "|110985|                        2.88|\n",
            "|109621|                        3.25|\n",
            "|111097|                        1.25|\n",
            "|111245|                         0.0|\n",
            "|111288|                        1.99|\n",
            "|165103|                        4.29|\n",
            "|111444|                        1.04|\n",
            "|111509|                         1.0|\n",
            "|111556|                        0.48|\n",
            "|111642|                        7.04|\n",
            "|111869|                        1.89|\n",
            "|158585|                        0.39|\n",
            "+------+----------------------------+\n",
            "only showing top 20 rows\n",
            "\n"
          ]
        }
      ],
      "source": [
        "## total_credit_to_income_ratio (total credit/income)\n",
        "\n",
        "# Calculate total_credit_to_income_ratio\n",
        "df_application = (df_application\n",
        "                  .withColumn(\"total_credit_to_income_ratio\", col(\"total_credit\")/col(\"income_total\"))\n",
        "                  .withColumn(\"total_credit_to_income_ratio\", round_(col(\"total_credit_to_income_ratio\"), 2))\n",
        "                 )\n",
        "\n",
        "# Display the result\n",
        "df_application.select(\"id_app\", \"total_credit_to_income_ratio\").show()"
      ]
    },
    {
      "cell_type": "markdown",
      "metadata": {
        "id": "Oc2zH3_0tgYS"
      },
      "source": [
        "1.2.5 Replace education_type, occupation_type, income_type and family_status with matching strings from value_dict (hint: consider reusing code from your A1)."
      ]
    },
    {
      "cell_type": "code",
      "execution_count": null,
      "metadata": {
        "id": "OxTBB_vCtgYS",
        "outputId": "ed3f20ec-0638-4fae-efae-c30239cac862"
      },
      "outputs": [
        {
          "name": "stdout",
          "output_type": "stream",
          "text": [
            "+------+--------------------+\n",
            "|id_app|      education_type|\n",
            "+------+--------------------+\n",
            "|118100|    Higher education|\n",
            "|110133|Secondary / secon...|\n",
            "|110215|Secondary / secon...|\n",
            "|194051|Secondary / secon...|\n",
            "|110368|    Higher education|\n",
            "|110498|Secondary / secon...|\n",
            "|110561|    Higher education|\n",
            "|110836|Secondary / secon...|\n",
            "|110985|    Higher education|\n",
            "|109621|Secondary / secon...|\n",
            "|111097|Secondary / secon...|\n",
            "|111245|Secondary / secon...|\n",
            "|111288|Secondary / secon...|\n",
            "|165103|Secondary / secon...|\n",
            "|111444|     Lower secondary|\n",
            "|111509|Secondary / secon...|\n",
            "|111556|Secondary / secon...|\n",
            "|111642|Secondary / secon...|\n",
            "|111869|Secondary / secon...|\n",
            "|158585|Secondary / secon...|\n",
            "+------+--------------------+\n",
            "only showing top 20 rows\n",
            "\n"
          ]
        }
      ],
      "source": [
        "## education_type\n",
        "\n",
        "# Separate education_type key value pair from value dictionary\n",
        "df_education_type = (df_value_dict\n",
        "                     .filter(col(\"category\") == \"education_type\")\n",
        "                     .drop(col(\"id\"), col(\"category\"))\n",
        "                    )\n",
        "# Convert education_type dataframe to dictionary\n",
        "education_type_dict = {x[1]: x[0] for x in df_education_type.collect()}\n",
        "\n",
        "# Adjust education_type datatype, apply replace function based on dictionary\n",
        "df_application = (df_application\n",
        "                  .withColumn(\"education_type\", col(\"education_type\").cast(StringType()))\n",
        "                  .replace(education_type_dict, subset = [\"education_type\"])\n",
        "                 )\n",
        "\n",
        "# Display the result\n",
        "df_application.select(\"id_app\", \"education_type\").show()"
      ]
    },
    {
      "cell_type": "code",
      "execution_count": null,
      "metadata": {
        "id": "Vj3IiVHYtgYT",
        "outputId": "6ae7135b-08bb-40a2-a39a-bf10ec4fffea"
      },
      "outputs": [
        {
          "name": "stdout",
          "output_type": "stream",
          "text": [
            "+------+--------------------+\n",
            "|id_app|     occupation_type|\n",
            "+------+--------------------+\n",
            "|118100|            Laborers|\n",
            "|110133|         Sales staff|\n",
            "|110215|          Core staff|\n",
            "|194051|      Security staff|\n",
            "|110368|             (Empty)|\n",
            "|110498|             (Empty)|\n",
            "|110561|         Accountants|\n",
            "|110836|             (Empty)|\n",
            "|110985|          Core staff|\n",
            "|109621|         Accountants|\n",
            "|111097|  Low-skill Laborers|\n",
            "|111245|            Laborers|\n",
            "|111288|             Drivers|\n",
            "|165103|             Drivers|\n",
            "|111444|            Laborers|\n",
            "|111509|            Laborers|\n",
            "|111556|            Laborers|\n",
            "|111642|            Laborers|\n",
            "|111869|             (Empty)|\n",
            "|158585|High skill tech s...|\n",
            "+------+--------------------+\n",
            "only showing top 20 rows\n",
            "\n"
          ]
        }
      ],
      "source": [
        "## occupation_type\n",
        "\n",
        "# Separate occupation_type key value pair from value dictionary\n",
        "df_occupation_type = (df_value_dict\n",
        "                     .filter(col(\"category\") == \"occupation_type\")\n",
        "                     .drop(col(\"id\"), col(\"category\"))\n",
        "                    )\n",
        "# Convert occupation_type dataframe to dictionary\n",
        "occupation_type_dict = {x[1]: x[0] for x in df_occupation_type.collect()}\n",
        "\n",
        "# Adjust occupation_type datatype, apply replace function based on dictionary\n",
        "df_application = (df_application\n",
        "                  .withColumn(\"occupation_type\", col(\"occupation_type\").cast(StringType()))\n",
        "                  .replace(occupation_type_dict, subset = [\"occupation_type\"])\n",
        "                 )\n",
        "\n",
        "# Display the result\n",
        "df_application.select(\"id_app\", \"occupation_type\").show()"
      ]
    },
    {
      "cell_type": "code",
      "execution_count": null,
      "metadata": {
        "id": "wX-BHyvftgYT",
        "outputId": "5f71d584-b8a2-4431-9855-37947d6149cc"
      },
      "outputs": [
        {
          "name": "stdout",
          "output_type": "stream",
          "text": [
            "+------+--------------------+\n",
            "|id_app|         income_type|\n",
            "+------+--------------------+\n",
            "|118100|             Working|\n",
            "|110133|Commercial associate|\n",
            "|110215|             Working|\n",
            "|194051|             Working|\n",
            "|110368|           Pensioner|\n",
            "|110498|           Pensioner|\n",
            "|110561|Commercial associate|\n",
            "|110836|Commercial associate|\n",
            "|110985|Commercial associate|\n",
            "|109621|             Working|\n",
            "|111097|             Working|\n",
            "|111245|             Working|\n",
            "|111288|             Working|\n",
            "|165103|             Working|\n",
            "|111444|             Working|\n",
            "|111509|             Working|\n",
            "|111556|             Working|\n",
            "|111642|Commercial associate|\n",
            "|111869|           Pensioner|\n",
            "|158585|             Working|\n",
            "+------+--------------------+\n",
            "only showing top 20 rows\n",
            "\n"
          ]
        }
      ],
      "source": [
        "## income_type\n",
        "\n",
        "# Separate income_type key value pair from value dictionary\n",
        "df_income_type = (df_value_dict\n",
        "                     .filter(col(\"category\") == \"income_type\")\n",
        "                     .drop(col(\"id\"), col(\"category\"))\n",
        "                    )\n",
        "# Convert income_type dataframe to dictionary\n",
        "income_type_dict = {x[1]: x[0] for x in df_income_type.collect()}\n",
        "\n",
        "# Adjust income_type datatype, apply replace function based on dictionary\n",
        "df_application = (df_application\n",
        "                  .withColumn(\"income_type\", col(\"income_type\").cast(StringType()))\n",
        "                  .replace(income_type_dict, subset = [\"income_type\"])\n",
        "                 )\n",
        "\n",
        "# Display the result\n",
        "df_application.select(\"id_app\", \"income_type\").show()"
      ]
    },
    {
      "cell_type": "code",
      "execution_count": null,
      "metadata": {
        "id": "R_ygcIZNtgYT",
        "outputId": "4694fd00-39cb-48dc-c664-b85999b7de43"
      },
      "outputs": [
        {
          "name": "stdout",
          "output_type": "stream",
          "text": [
            "+------+--------------------+\n",
            "|id_app|       family_status|\n",
            "+------+--------------------+\n",
            "|118100|             Married|\n",
            "|110133|             Married|\n",
            "|110215|Single / not married|\n",
            "|194051|      Civil marriage|\n",
            "|110368|             Married|\n",
            "|110498|             Married|\n",
            "|110561|Single / not married|\n",
            "|110836|             Married|\n",
            "|110985|      Civil marriage|\n",
            "|109621|             Married|\n",
            "|111097|             Married|\n",
            "|111245|      Civil marriage|\n",
            "|111288|             Married|\n",
            "|165103|           Separated|\n",
            "|111444|Single / not married|\n",
            "|111509|             Married|\n",
            "|111556|           Separated|\n",
            "|111642|             Married|\n",
            "|111869|Single / not married|\n",
            "|158585|      Civil marriage|\n",
            "+------+--------------------+\n",
            "only showing top 20 rows\n",
            "\n"
          ]
        }
      ],
      "source": [
        "## family_status\n",
        "\n",
        "# Separate family_status key value pair from value dictionary\n",
        "df_family_status = (df_value_dict\n",
        "                     .filter(col(\"category\") == \"family_status\")\n",
        "                     .drop(col(\"id\"), col(\"category\"))\n",
        "                    )\n",
        "# Convert family_status dataframe to dictionary\n",
        "family_status_dict = {x[1]: x[0] for x in df_family_status.collect()}\n",
        "\n",
        "# Adjust family_status datatype, apply replace function based on dictionary\n",
        "df_application = (df_application\n",
        "                  .withColumn(\"family_status\", col(\"family_status\").cast(StringType()))\n",
        "                  .replace(family_status_dict, subset = [\"family_status\"])\n",
        "                 )\n",
        "\n",
        "# Display the result\n",
        "df_application.select(\"id_app\", \"family_status\").show()"
      ]
    },
    {
      "cell_type": "markdown",
      "metadata": {
        "id": "8orNSRMatgYT"
      },
      "source": [
        "1.2.6 Join the loan_default data frame and add is_default to application data. We’ll use this column as the label."
      ]
    },
    {
      "cell_type": "code",
      "execution_count": null,
      "metadata": {
        "id": "9OnxDEXitgYT",
        "outputId": "677e2c54-7b59-42f9-9990-2e7814d5f5e2"
      },
      "outputs": [
        {
          "name": "stdout",
          "output_type": "stream",
          "text": [
            "+------+----------+\n",
            "|id_app|is_default|\n",
            "+------+----------+\n",
            "|136948|      true|\n",
            "|185200|     false|\n",
            "|138411|      true|\n",
            "|289291|      true|\n",
            "|289534|      true|\n",
            "|289538|      true|\n",
            "|120608|      true|\n",
            "|120823|      true|\n",
            "|120841|      true|\n",
            "|289899|      true|\n",
            "|146914|      true|\n",
            "|121068|      true|\n",
            "|250505|      true|\n",
            "|142122|      true|\n",
            "|154029|      true|\n",
            "|230145|      true|\n",
            "|121739|      true|\n",
            "|122031|      true|\n",
            "|295779|      true|\n",
            "|190812|      true|\n",
            "+------+----------+\n",
            "only showing top 20 rows\n",
            "\n"
          ]
        }
      ],
      "source": [
        "df_application = (df_application\n",
        "                  .join(df_loan_default, df_application.id_app == df_loan_default.id_app)\n",
        "                  .drop(df_loan_default[\"id_app\"])\n",
        "                 )\n",
        "\n",
        "df_application.select(\"id_app\", \"is_default\").show()"
      ]
    },
    {
      "cell_type": "markdown",
      "metadata": {
        "id": "P3r_1dcotgYU"
      },
      "source": [
        "Print 10 records from the application_data data frame."
      ]
    },
    {
      "cell_type": "code",
      "execution_count": null,
      "metadata": {
        "id": "YbOqCYNgtgYU",
        "outputId": "d08a5d0f-c65e-457e-bdf3-53f5cbb62a89"
      },
      "outputs": [
        {
          "name": "stdout",
          "output_type": "stream",
          "text": [
            "+------+------+-------------+------+-------+------------+---------------+------------+----------+-----------+---------------+--------------------+--------------------+--------------------+------------+-----------------+----------+-------------+-----------+-----------+--------------+---------------+----------------+----------+----------+---------------+---------------+-------------------------+----------------------+-----------------+-------------------+-------------------+-------------------+----------------------+------------------------+-----------------------+------------------------+-------------------------+---------------------------+------------------------+--------------------+----------+---+----------+--------------------+-------------+---------------+-------------------+------------+----------------------------+----------+\n",
            "|id_app|target|contract_type|gender|own_car|own_property|num_of_children|income_total|amt_credit|amt_annuity|amt_goods_price|         income_type|      education_type|       family_status|housing_type|region_population|days_birth|days_employed|own_car_age|flag_mobile|flag_emp_phone|flag_work_phone|flag_cont_mobile|flag_phone|flag_email|occupation_type|cnt_fam_members|weekday_app_process_start|hour_app_process_start|organization_type|     credit_score_1|     credit_score_2|     credit_score_3|days_last_phone_change|amt_credit_req_last_hour|amt_credit_req_last_day|amt_credit_req_last_week|amt_credit_req_last_month|amt_credit_req_last_quarter|amt_credit_req_last_year|loan_to_income_ratio|  birthday|age|age_bucket|average_credit_score|credit_bucket|num_of_prev_app|num_of_approved_app|total_credit|total_credit_to_income_ratio|is_default|\n",
            "+------+------+-------------+------+-------+------------+---------------+------------+----------+-----------+---------------+--------------------+--------------------+--------------------+------------+-----------------+----------+-------------+-----------+-----------+--------------+---------------+----------------+----------+----------+---------------+---------------+-------------------------+----------------------+-----------------+-------------------+-------------------+-------------------+----------------------+------------------------+-----------------------+------------------------+-------------------------+---------------------------+------------------------+--------------------+----------+---+----------+--------------------+-------------+---------------+-------------------+------------+----------------------------+----------+\n",
            "|118100|     0|            2|     F|      Y|           Y|              1|    247500.0|  667237.5|    52848.0|       576000.0|             Working|    Higher education|             Married|           6|         0.018801|    -11258|        -1596|       13.0|          1|             1|              0|               1|         0|         0|       Laborers|            3.0|                   FRIDAY|                     8|               28| 0.6099422574043274| 0.5884348154067993|                0.5|                  -733|                    NULL|                   NULL|                    NULL|                     NULL|                       NULL|                    NULL|              2.6959|1993-04-08| 30|         E|              0.5661|       medium|              7|                  2|    381577.5|                        1.54|     false|\n",
            "|110133|     0|            2|     F|      N|           Y|              2|    112500.0| 1374480.0|    49500.0|      1125000.0|Commercial associate|Secondary / secon...|             Married|           6|         0.006233|    -11044|         -942|       NULL|          1|             1|              1|               1|         0|         0|    Sales staff|            4.0|                   MONDAY|                    10|               42| 0.7081763744354248| 0.6865754127502441|                0.5|                     0|                    NULL|                   NULL|                    NULL|                     NULL|                       NULL|                    NULL|             12.2176|1993-11-08| 30|         E|              0.6316|       medium|              3|                  3|    238765.5|                        2.12|     false|\n",
            "|110215|     0|            2|     F|      N|           Y|              0|    166500.0|  545040.0|    26640.0|       450000.0|             Working|Secondary / secon...|Single / not married|           6|         0.032561|    -17115|         -581|       NULL|          1|             1|              0|               1|         1|         0|     Core staff|            1.0|                   MONDAY|                    14|               22|0.49497994780540466| 0.5847758650779724|0.47225335240364075|                 -1598|                     0.0|                    0.0|                     0.0|                      1.0|                        0.0|                     3.0|              3.2735|1977-03-26| 46|         L|              0.5173|       medium|              8|                  2|    248575.5|                        1.49|     false|\n",
            "|194051|     0|            2|     F|      N|           N|              0|    112500.0|  900000.0|    24750.0|       900000.0|             Working|Secondary / secon...|      Civil marriage|           6|         0.015221|    -17855|        -5470|       NULL|          1|             1|              0|               1|         1|         0| Security staff|            2.0|                   FRIDAY|                    15|               30|                0.5| 0.5962075591087341| 0.6195276975631714|                  -734|                     0.0|                    0.0|                     0.0|                      0.0|                        0.0|                     1.0|                 8.0|1975-03-17| 48|         L|              0.5719|       medium|              5|                  3|    300118.5|                        2.67|     false|\n",
            "|110368|     0|            2|     F|      N|           Y|              0|    261000.0| 1237684.5|    47272.5|      1138500.0|           Pensioner|    Higher education|             Married|           6|         0.020713|    -22818|       365243|       NULL|          1|             0|              0|               1|         0|         0|        (Empty)|            2.0|                   FRIDAY|                    10|               31|                0.5|   0.64156574010849| 0.3996756076812744|                  -979|                     0.0|                    0.0|                     0.0|                      0.0|                        0.0|                     0.0|              4.7421|1961-08-14| 62|         N|              0.5137|       medium|              2|                  2|   1428313.5|                        5.47|     false|\n",
            "|110498|     0|            2|     F|      N|           N|              0|    157500.0|  179865.0|    11133.0|       148500.0|           Pensioner|Secondary / secon...|             Married|           6|          0.00496|    -21183|       365243|       NULL|          1|             0|              0|               1|         0|         0|        (Empty)|            2.0|                 THURSDAY|                    14|               31|                0.5|0.14626194536685944| 0.5064842104911804|                     0|                     0.0|                    0.0|                     0.0|                      0.0|                        0.0|                     4.0|               1.142|1966-02-04| 57|         N|              0.3842|          low|              8|                  5|   2067736.5|                       13.13|     false|\n",
            "|110561|     0|            2|     F|      N|           Y|              1|    157500.0| 1256400.0|    36864.0|       900000.0|Commercial associate|    Higher education|Single / not married|           6|         0.018029|     -9537|         -182|       NULL|          1|             1|              0|               1|         0|         0|    Accountants|            2.0|                  TUESDAY|                     8|               39|0.13320907950401306| 0.5543783903121948|                0.5|                 -1810|                     0.0|                    0.0|                     0.0|                      0.0|                        1.0|                     0.0|              7.9771|1997-12-24| 26|         E|              0.3959|          low|              3|                  2|    159034.5|                        1.01|     false|\n",
            "|110836|     0|            2|     F|      N|           N|              1|    126000.0|  454500.0|    14791.5|       454500.0|Commercial associate|Secondary / secon...|             Married|           6|         0.009334|    -13351|        -6261|       NULL|          1|             1|              1|               1|         1|         0|        (Empty)|            3.0|                  TUESDAY|                    13|               38|                0.5| 0.7807371616363525| 0.5797274112701416|                 -1197|                     0.0|                    0.0|                     0.0|                      0.0|                        0.0|                     1.0|              3.6071|1987-07-16| 36|         M|              0.6202|       medium|              2|                  2|     55183.5|                        0.44|     false|\n",
            "|110985|     0|            2|     F|      N|           Y|              0|     76500.0|  454500.0|    14791.5|       454500.0|Commercial associate|    Higher education|      Civil marriage|           6|         0.007114|    -16847|        -1194|       NULL|          1|             1|              0|               1|         0|         0|     Core staff|            2.0|                   SUNDAY|                    15|               50|                0.5|0.19403037428855896|                0.5|                 -1150|                    NULL|                   NULL|                    NULL|                     NULL|                       NULL|                    NULL|              5.9412|1977-12-19| 46|         L|               0.398|          low|              9|                  3|    220329.0|                        2.88|     false|\n",
            "|109621|     0|            2|     F|      N|           N|              1|     67500.0|  513531.0|    24835.5|       459000.0|             Working|Secondary / secon...|             Married|           6|         0.008068|    -10828|        -2693|       NULL|          1|             1|              0|               1|         0|         0|    Accountants|            3.0|                 THURSDAY|                    12|               28|0.42454174160957336|0.17806705832481384| 0.5989262461662292|                     0|                     0.0|                    0.0|                     0.0|                      0.0|                        0.0|                     2.0|              7.6079|1994-06-12| 29|         E|              0.4005|       medium|              2|                  2|    219226.5|                        3.25|     false|\n",
            "+------+------+-------------+------+-------+------------+---------------+------------+----------+-----------+---------------+--------------------+--------------------+--------------------+------------+-----------------+----------+-------------+-----------+-----------+--------------+---------------+----------------+----------+----------+---------------+---------------+-------------------------+----------------------+-----------------+-------------------+-------------------+-------------------+----------------------+------------------------+-----------------------+------------------------+-------------------------+---------------------------+------------------------+--------------------+----------+---+----------+--------------------+-------------+---------------+-------------------+------------+----------------------------+----------+\n",
            "only showing top 10 rows\n",
            "\n"
          ]
        }
      ],
      "source": [
        "df_application.show(10)"
      ]
    },
    {
      "cell_type": "markdown",
      "metadata": {
        "id": "bcUf4F7vtgYV"
      },
      "source": [
        "### 1.3 Exploring the Data <a class=\"anchor\" name=\"1.3\"></a>\n",
        "1.3.1 With the transformed data frame from 1.2, write code to show the basic statistics (3%) (pandas is allowed for this task):  \n",
        "a) For each numeric column, show count, mean, stddev, min, max, 25 percentile, 50 percentile, and 75 percentile;  \n",
        "b) For each non-numeric column, display the top 5 based on counts in descending order;  \n",
        "c) For each boolean column, display the value and count(i.e., two rows in total)."
      ]
    },
    {
      "cell_type": "code",
      "execution_count": null,
      "metadata": {
        "id": "hsoThzwQtgYV",
        "outputId": "9549dac2-1067-4ff9-f780-5cc2030dfe07"
      },
      "outputs": [
        {
          "data": {
            "text/html": [
              "<div>\n",
              "<style scoped>\n",
              "    .dataframe tbody tr th:only-of-type {\n",
              "        vertical-align: middle;\n",
              "    }\n",
              "\n",
              "    .dataframe tbody tr th {\n",
              "        vertical-align: top;\n",
              "    }\n",
              "\n",
              "    .dataframe thead th {\n",
              "        text-align: right;\n",
              "    }\n",
              "</style>\n",
              "<table border=\"1\" class=\"dataframe\">\n",
              "  <thead>\n",
              "    <tr style=\"text-align: right;\">\n",
              "      <th></th>\n",
              "      <th>id_app</th>\n",
              "      <th>target</th>\n",
              "      <th>contract_type</th>\n",
              "      <th>gender</th>\n",
              "      <th>own_car</th>\n",
              "      <th>own_property</th>\n",
              "      <th>num_of_children</th>\n",
              "      <th>income_total</th>\n",
              "      <th>amt_credit</th>\n",
              "      <th>amt_annuity</th>\n",
              "      <th>...</th>\n",
              "      <th>birthday</th>\n",
              "      <th>age</th>\n",
              "      <th>age_bucket</th>\n",
              "      <th>average_credit_score</th>\n",
              "      <th>credit_bucket</th>\n",
              "      <th>num_of_prev_app</th>\n",
              "      <th>num_of_approved_app</th>\n",
              "      <th>total_credit</th>\n",
              "      <th>total_credit_to_income_ratio</th>\n",
              "      <th>is_default</th>\n",
              "    </tr>\n",
              "  </thead>\n",
              "  <tbody>\n",
              "    <tr>\n",
              "      <th>0</th>\n",
              "      <td>118100</td>\n",
              "      <td>0</td>\n",
              "      <td>2</td>\n",
              "      <td>F</td>\n",
              "      <td>Y</td>\n",
              "      <td>Y</td>\n",
              "      <td>1</td>\n",
              "      <td>247500.0</td>\n",
              "      <td>667237.5</td>\n",
              "      <td>52848.0</td>\n",
              "      <td>...</td>\n",
              "      <td>1993-04-08</td>\n",
              "      <td>30</td>\n",
              "      <td>E</td>\n",
              "      <td>0.5661</td>\n",
              "      <td>medium</td>\n",
              "      <td>7</td>\n",
              "      <td>2</td>\n",
              "      <td>381577.5</td>\n",
              "      <td>1.54</td>\n",
              "      <td>false</td>\n",
              "    </tr>\n",
              "    <tr>\n",
              "      <th>1</th>\n",
              "      <td>110133</td>\n",
              "      <td>0</td>\n",
              "      <td>2</td>\n",
              "      <td>F</td>\n",
              "      <td>N</td>\n",
              "      <td>Y</td>\n",
              "      <td>2</td>\n",
              "      <td>112500.0</td>\n",
              "      <td>1374480.0</td>\n",
              "      <td>49500.0</td>\n",
              "      <td>...</td>\n",
              "      <td>1993-11-08</td>\n",
              "      <td>30</td>\n",
              "      <td>E</td>\n",
              "      <td>0.6316</td>\n",
              "      <td>medium</td>\n",
              "      <td>3</td>\n",
              "      <td>3</td>\n",
              "      <td>238765.5</td>\n",
              "      <td>2.12</td>\n",
              "      <td>false</td>\n",
              "    </tr>\n",
              "    <tr>\n",
              "      <th>2</th>\n",
              "      <td>110215</td>\n",
              "      <td>0</td>\n",
              "      <td>2</td>\n",
              "      <td>F</td>\n",
              "      <td>N</td>\n",
              "      <td>Y</td>\n",
              "      <td>0</td>\n",
              "      <td>166500.0</td>\n",
              "      <td>545040.0</td>\n",
              "      <td>26640.0</td>\n",
              "      <td>...</td>\n",
              "      <td>1977-03-26</td>\n",
              "      <td>46</td>\n",
              "      <td>L</td>\n",
              "      <td>0.5173</td>\n",
              "      <td>medium</td>\n",
              "      <td>8</td>\n",
              "      <td>2</td>\n",
              "      <td>248575.5</td>\n",
              "      <td>1.49</td>\n",
              "      <td>false</td>\n",
              "    </tr>\n",
              "    <tr>\n",
              "      <th>3</th>\n",
              "      <td>194051</td>\n",
              "      <td>0</td>\n",
              "      <td>2</td>\n",
              "      <td>F</td>\n",
              "      <td>N</td>\n",
              "      <td>N</td>\n",
              "      <td>0</td>\n",
              "      <td>112500.0</td>\n",
              "      <td>900000.0</td>\n",
              "      <td>24750.0</td>\n",
              "      <td>...</td>\n",
              "      <td>1975-03-17</td>\n",
              "      <td>48</td>\n",
              "      <td>L</td>\n",
              "      <td>0.5719</td>\n",
              "      <td>medium</td>\n",
              "      <td>5</td>\n",
              "      <td>3</td>\n",
              "      <td>300118.5</td>\n",
              "      <td>2.67</td>\n",
              "      <td>false</td>\n",
              "    </tr>\n",
              "    <tr>\n",
              "      <th>4</th>\n",
              "      <td>110368</td>\n",
              "      <td>0</td>\n",
              "      <td>2</td>\n",
              "      <td>F</td>\n",
              "      <td>N</td>\n",
              "      <td>Y</td>\n",
              "      <td>0</td>\n",
              "      <td>261000.0</td>\n",
              "      <td>1237684.5</td>\n",
              "      <td>47272.5</td>\n",
              "      <td>...</td>\n",
              "      <td>1961-08-14</td>\n",
              "      <td>62</td>\n",
              "      <td>N</td>\n",
              "      <td>0.5137</td>\n",
              "      <td>medium</td>\n",
              "      <td>2</td>\n",
              "      <td>2</td>\n",
              "      <td>1428313.5</td>\n",
              "      <td>5.47</td>\n",
              "      <td>false</td>\n",
              "    </tr>\n",
              "    <tr>\n",
              "      <th>...</th>\n",
              "      <td>...</td>\n",
              "      <td>...</td>\n",
              "      <td>...</td>\n",
              "      <td>...</td>\n",
              "      <td>...</td>\n",
              "      <td>...</td>\n",
              "      <td>...</td>\n",
              "      <td>...</td>\n",
              "      <td>...</td>\n",
              "      <td>...</td>\n",
              "      <td>...</td>\n",
              "      <td>...</td>\n",
              "      <td>...</td>\n",
              "      <td>...</td>\n",
              "      <td>...</td>\n",
              "      <td>...</td>\n",
              "      <td>...</td>\n",
              "      <td>...</td>\n",
              "      <td>...</td>\n",
              "      <td>...</td>\n",
              "      <td>...</td>\n",
              "    </tr>\n",
              "    <tr>\n",
              "      <th>172586</th>\n",
              "      <td>291519</td>\n",
              "      <td>0</td>\n",
              "      <td>2</td>\n",
              "      <td>F</td>\n",
              "      <td>N</td>\n",
              "      <td>Y</td>\n",
              "      <td>1</td>\n",
              "      <td>135000.0</td>\n",
              "      <td>252000.0</td>\n",
              "      <td>18468.0</td>\n",
              "      <td>...</td>\n",
              "      <td>1968-12-28</td>\n",
              "      <td>55</td>\n",
              "      <td>N</td>\n",
              "      <td>0.4866</td>\n",
              "      <td>medium</td>\n",
              "      <td>10</td>\n",
              "      <td>6</td>\n",
              "      <td>632164.5</td>\n",
              "      <td>4.68</td>\n",
              "      <td>false</td>\n",
              "    </tr>\n",
              "    <tr>\n",
              "      <th>172587</th>\n",
              "      <td>297727</td>\n",
              "      <td>0</td>\n",
              "      <td>2</td>\n",
              "      <td>F</td>\n",
              "      <td>N</td>\n",
              "      <td>Y</td>\n",
              "      <td>0</td>\n",
              "      <td>117000.0</td>\n",
              "      <td>517788.0</td>\n",
              "      <td>16668.0</td>\n",
              "      <td>...</td>\n",
              "      <td>1966-12-26</td>\n",
              "      <td>57</td>\n",
              "      <td>N</td>\n",
              "      <td>0.5752</td>\n",
              "      <td>medium</td>\n",
              "      <td>6</td>\n",
              "      <td>3</td>\n",
              "      <td>625725.0</td>\n",
              "      <td>5.35</td>\n",
              "      <td>false</td>\n",
              "    </tr>\n",
              "    <tr>\n",
              "      <th>172588</th>\n",
              "      <td>298681</td>\n",
              "      <td>1</td>\n",
              "      <td>2</td>\n",
              "      <td>M</td>\n",
              "      <td>N</td>\n",
              "      <td>N</td>\n",
              "      <td>0</td>\n",
              "      <td>247500.0</td>\n",
              "      <td>942300.0</td>\n",
              "      <td>34749.0</td>\n",
              "      <td>...</td>\n",
              "      <td>1999-10-16</td>\n",
              "      <td>24</td>\n",
              "      <td>Y</td>\n",
              "      <td>0.3566</td>\n",
              "      <td>low</td>\n",
              "      <td>4</td>\n",
              "      <td>3</td>\n",
              "      <td>356611.5</td>\n",
              "      <td>1.44</td>\n",
              "      <td>false</td>\n",
              "    </tr>\n",
              "    <tr>\n",
              "      <th>172589</th>\n",
              "      <td>298750</td>\n",
              "      <td>0</td>\n",
              "      <td>2</td>\n",
              "      <td>F</td>\n",
              "      <td>N</td>\n",
              "      <td>Y</td>\n",
              "      <td>0</td>\n",
              "      <td>198000.0</td>\n",
              "      <td>694773.0</td>\n",
              "      <td>33552.0</td>\n",
              "      <td>...</td>\n",
              "      <td>1984-03-04</td>\n",
              "      <td>39</td>\n",
              "      <td>M</td>\n",
              "      <td>0.5863</td>\n",
              "      <td>medium</td>\n",
              "      <td>17</td>\n",
              "      <td>7</td>\n",
              "      <td>2297043.0</td>\n",
              "      <td>11.60</td>\n",
              "      <td>false</td>\n",
              "    </tr>\n",
              "    <tr>\n",
              "      <th>172590</th>\n",
              "      <td>292538</td>\n",
              "      <td>0</td>\n",
              "      <td>2</td>\n",
              "      <td>M</td>\n",
              "      <td>N</td>\n",
              "      <td>Y</td>\n",
              "      <td>0</td>\n",
              "      <td>117000.0</td>\n",
              "      <td>285723.0</td>\n",
              "      <td>22239.0</td>\n",
              "      <td>...</td>\n",
              "      <td>1979-03-15</td>\n",
              "      <td>44</td>\n",
              "      <td>M</td>\n",
              "      <td>0.5340</td>\n",
              "      <td>medium</td>\n",
              "      <td>5</td>\n",
              "      <td>5</td>\n",
              "      <td>609682.5</td>\n",
              "      <td>5.21</td>\n",
              "      <td>false</td>\n",
              "    </tr>\n",
              "  </tbody>\n",
              "</table>\n",
              "<p>172591 rows × 51 columns</p>\n",
              "</div>"
            ],
            "text/plain": [
              "        id_app  target  contract_type gender own_car own_property  \\\n",
              "0       118100       0              2      F       Y            Y   \n",
              "1       110133       0              2      F       N            Y   \n",
              "2       110215       0              2      F       N            Y   \n",
              "3       194051       0              2      F       N            N   \n",
              "4       110368       0              2      F       N            Y   \n",
              "...        ...     ...            ...    ...     ...          ...   \n",
              "172586  291519       0              2      F       N            Y   \n",
              "172587  297727       0              2      F       N            Y   \n",
              "172588  298681       1              2      M       N            N   \n",
              "172589  298750       0              2      F       N            Y   \n",
              "172590  292538       0              2      M       N            Y   \n",
              "\n",
              "        num_of_children  income_total  amt_credit  amt_annuity  ...  \\\n",
              "0                     1      247500.0    667237.5      52848.0  ...   \n",
              "1                     2      112500.0   1374480.0      49500.0  ...   \n",
              "2                     0      166500.0    545040.0      26640.0  ...   \n",
              "3                     0      112500.0    900000.0      24750.0  ...   \n",
              "4                     0      261000.0   1237684.5      47272.5  ...   \n",
              "...                 ...           ...         ...          ...  ...   \n",
              "172586                1      135000.0    252000.0      18468.0  ...   \n",
              "172587                0      117000.0    517788.0      16668.0  ...   \n",
              "172588                0      247500.0    942300.0      34749.0  ...   \n",
              "172589                0      198000.0    694773.0      33552.0  ...   \n",
              "172590                0      117000.0    285723.0      22239.0  ...   \n",
              "\n",
              "          birthday age age_bucket average_credit_score  credit_bucket  \\\n",
              "0       1993-04-08  30          E               0.5661         medium   \n",
              "1       1993-11-08  30          E               0.6316         medium   \n",
              "2       1977-03-26  46          L               0.5173         medium   \n",
              "3       1975-03-17  48          L               0.5719         medium   \n",
              "4       1961-08-14  62          N               0.5137         medium   \n",
              "...            ...  ..        ...                  ...            ...   \n",
              "172586  1968-12-28  55          N               0.4866         medium   \n",
              "172587  1966-12-26  57          N               0.5752         medium   \n",
              "172588  1999-10-16  24          Y               0.3566            low   \n",
              "172589  1984-03-04  39          M               0.5863         medium   \n",
              "172590  1979-03-15  44          M               0.5340         medium   \n",
              "\n",
              "        num_of_prev_app  num_of_approved_app  total_credit  \\\n",
              "0                     7                    2      381577.5   \n",
              "1                     3                    3      238765.5   \n",
              "2                     8                    2      248575.5   \n",
              "3                     5                    3      300118.5   \n",
              "4                     2                    2     1428313.5   \n",
              "...                 ...                  ...           ...   \n",
              "172586               10                    6      632164.5   \n",
              "172587                6                    3      625725.0   \n",
              "172588                4                    3      356611.5   \n",
              "172589               17                    7     2297043.0   \n",
              "172590                5                    5      609682.5   \n",
              "\n",
              "        total_credit_to_income_ratio  is_default  \n",
              "0                               1.54       false  \n",
              "1                               2.12       false  \n",
              "2                               1.49       false  \n",
              "3                               2.67       false  \n",
              "4                               5.47       false  \n",
              "...                              ...         ...  \n",
              "172586                          4.68       false  \n",
              "172587                          5.35       false  \n",
              "172588                          1.44       false  \n",
              "172589                         11.60       false  \n",
              "172590                          5.21       false  \n",
              "\n",
              "[172591 rows x 51 columns]"
            ]
          },
          "metadata": {},
          "output_type": "display_data"
        }
      ],
      "source": [
        "# Convert pyspark dataframe to pandas dataframe\n",
        "df_application_pd = df_application.toPandas()\n",
        "\n",
        "# Display the result\n",
        "display(df_application_pd)"
      ]
    },
    {
      "cell_type": "code",
      "execution_count": null,
      "metadata": {
        "id": "JTfatvGYtgYV"
      },
      "outputs": [],
      "source": [
        "# Manually separate numerical columns, non-numerical columns and boolean columns\n",
        "num_cols = ['total_credit', 'own_car_age', 'days_birth', 'credit_score_2', 'num_of_prev_app', 'num_of_children', 'amt_credit_req_last_month', 'credit_score_1', 'days_last_phone_change', 'age', 'amt_credit_req_last_day', 'amt_annuity', 'region_population', 'amt_credit', 'amt_goods_price', 'total_credit_to_income_ratio', 'amt_credit_req_last_hour', 'num_of_approved_app', 'days_employed', 'income_total', 'amt_credit_req_last_week', 'cnt_fam_members', 'loan_to_income_ratio', 'average_credit_score', 'amt_credit_req_last_year', 'amt_credit_req_last_quarter', 'credit_score_3']\n",
        "non_num_cols = ['id_app', 'contract_type', 'housing_type', 'hour_app_process_start', 'organization_type', 'gender', 'income_type', 'education_type', 'family_status', 'occupation_type', 'weekday_app_process_start', 'birthday', 'age_bucket', 'credit_bucket']\n",
        "boolean_cols = ['target', 'flag_mobile', 'flag_emp_phone', 'flag_work_phone', 'flag_cont_mobile', 'flag_phone', 'flag_email', 'own_car', 'own_property', 'is_default']"
      ]
    },
    {
      "cell_type": "code",
      "execution_count": null,
      "metadata": {
        "id": "j6rDGcfutgYV",
        "outputId": "c2cb7bd5-a0c7-48a6-c62b-fed87d8dc13d"
      },
      "outputs": [
        {
          "name": "stdout",
          "output_type": "stream",
          "text": [
            "       total_credit   own_car_age     days_birth  credit_score_2  \\\n",
            "count  1.725910e+05  58703.000000  172591.000000    1.725910e+05   \n",
            "mean   5.796704e+05     12.039402  -16026.153084    5.139773e-01   \n",
            "std    7.572869e+05     11.937061    4367.826105    1.913041e-01   \n",
            "min    0.000000e+00      0.000000  -25201.000000    8.000000e-08   \n",
            "25%    1.077165e+05      5.000000  -19672.000000    3.915323e-01   \n",
            "50%    2.841075e+05      9.000000  -15728.000000    5.654296e-01   \n",
            "75%    7.539930e+05     15.000000  -12395.500000    6.637537e-01   \n",
            "max    1.037038e+07     69.000000   -7673.000000    8.549997e-01   \n",
            "\n",
            "       num_of_prev_app  num_of_children  amt_credit_req_last_month  \\\n",
            "count    172591.000000    172591.000000              149402.000000   \n",
            "mean          4.579659         0.419228                   0.266255   \n",
            "std           4.163129         0.724401                   0.914857   \n",
            "min           0.000000         0.000000                   0.000000   \n",
            "25%           2.000000         0.000000                   0.000000   \n",
            "50%           3.000000         0.000000                   0.000000   \n",
            "75%           6.000000         1.000000                   0.000000   \n",
            "max          73.000000        19.000000                  24.000000   \n",
            "\n",
            "       credit_score_1  days_last_phone_change            age  ...  \\\n",
            "count   172591.000000           172590.000000  172591.000000  ...   \n",
            "mean         0.500757             -961.946492      43.377708  ...   \n",
            "std          0.139774              826.923621      11.955922  ...   \n",
            "min          0.014568            -4185.000000      21.000000  ...   \n",
            "25%          0.500000            -1569.000000      33.000000  ...   \n",
            "50%          0.500000             -756.000000      43.000000  ...   \n",
            "75%          0.500000             -272.000000      53.000000  ...   \n",
            "max          0.951624                0.000000      68.000000  ...   \n",
            "\n",
            "       num_of_approved_app  days_employed  income_total  \\\n",
            "count        172591.000000  172591.000000  1.725910e+05   \n",
            "mean              2.875781   63626.667868  1.689199e+05   \n",
            "std               2.178800  141115.249490  2.992920e+05   \n",
            "min               0.000000  -17531.000000  2.565000e+04   \n",
            "25%               1.000000   -2757.000000  1.125000e+05   \n",
            "50%               2.000000   -1215.000000  1.440000e+05   \n",
            "75%               4.000000    -289.000000  2.025000e+05   \n",
            "max              24.000000  365243.000000  1.170000e+08   \n",
            "\n",
            "       amt_credit_req_last_week  cnt_fam_members  loan_to_income_ratio  \\\n",
            "count             149402.000000    172590.000000         172591.000000   \n",
            "mean                   0.033955         2.156614              3.960633   \n",
            "std                    0.203978         0.912762              2.697759   \n",
            "min                    0.000000         1.000000              0.004800   \n",
            "25%                    0.000000         2.000000              2.018700   \n",
            "50%                    0.000000         2.000000              3.269100   \n",
            "75%                    0.000000         3.000000              5.171400   \n",
            "max                    8.000000        20.000000             84.736800   \n",
            "\n",
            "       average_credit_score  amt_credit_req_last_year  \\\n",
            "count         172591.000000             149402.000000   \n",
            "mean               0.507729                  1.890985   \n",
            "std                0.108487                  1.863520   \n",
            "min                0.023700                  0.000000   \n",
            "25%                0.437400                  0.000000   \n",
            "50%                0.516900                  1.000000   \n",
            "75%                0.583700                  3.000000   \n",
            "max                0.845600                 25.000000   \n",
            "\n",
            "       amt_credit_req_last_quarter  credit_score_3  \n",
            "count                149402.000000   172591.000000  \n",
            "mean                      0.264019        0.508452  \n",
            "std                       0.610364        0.174561  \n",
            "min                       0.000000        0.000527  \n",
            "25%                       0.000000        0.417100  \n",
            "50%                       0.000000        0.500000  \n",
            "75%                       0.000000        0.634706  \n",
            "max                       8.000000        0.896010  \n",
            "\n",
            "[8 rows x 27 columns]\n"
          ]
        }
      ],
      "source": [
        "# Produce count, mean, stddev, min, max, 25 percentile, 50 percentile, and 75 percentile for numerical columns\n",
        "summary_num_cols = df_application_pd[num_cols].describe()\n",
        "print(summary_num_cols)"
      ]
    },
    {
      "cell_type": "code",
      "execution_count": null,
      "metadata": {
        "id": "F81WFNTRtgYW",
        "outputId": "50bb28f4-7ec0-4fbf-b7f6-93f2dcc778fa"
      },
      "outputs": [
        {
          "name": "stdout",
          "output_type": "stream",
          "text": [
            "+------+-----+\n",
            "|id_app|count|\n",
            "+------+-----+\n",
            "|296807|    1|\n",
            "|157426|    1|\n",
            "|222925|    1|\n",
            "|280659|    1|\n",
            "|104656|    1|\n",
            "+------+-----+\n",
            "only showing top 5 rows\n",
            "\n",
            "+-------------+------+\n",
            "|contract_type| count|\n",
            "+-------------+------+\n",
            "|            2|156155|\n",
            "|            1| 16436|\n",
            "+-------------+------+\n",
            "\n",
            "+------------+------+\n",
            "|housing_type| count|\n",
            "+------------+------+\n",
            "|           6|153176|\n",
            "|           5|  8300|\n",
            "|           4|  6319|\n",
            "|           1|  2685|\n",
            "|           3|  1488|\n",
            "+------------+------+\n",
            "only showing top 5 rows\n",
            "\n",
            "+----------------------+-----+\n",
            "|hour_app_process_start|count|\n",
            "+----------------------+-----+\n",
            "|                    10|21147|\n",
            "|                    11|20931|\n",
            "|                    12|19240|\n",
            "|                    13|17385|\n",
            "|                    14|15541|\n",
            "+----------------------+-----+\n",
            "only showing top 5 rows\n",
            "\n",
            "+-----------------+-----+\n",
            "|organization_type|count|\n",
            "+-----------------+-----+\n",
            "|               36|38394|\n",
            "|               31|30989|\n",
            "|               50|21404|\n",
            "|                9| 9323|\n",
            "|               22| 6298|\n",
            "+-----------------+-----+\n",
            "only showing top 5 rows\n",
            "\n",
            "+------+------+\n",
            "|gender| count|\n",
            "+------+------+\n",
            "|     F|113467|\n",
            "|     M| 59121|\n",
            "|   XNA|     3|\n",
            "+------+------+\n",
            "\n",
            "+--------------------+-----+\n",
            "|         income_type|count|\n",
            "+--------------------+-----+\n",
            "|             Working|89283|\n",
            "|Commercial associate|40237|\n",
            "|           Pensioner|30983|\n",
            "|       State servant|12057|\n",
            "|          Unemployed|   13|\n",
            "+--------------------+-----+\n",
            "only showing top 5 rows\n",
            "\n",
            "+--------------------+------+\n",
            "|      education_type| count|\n",
            "+--------------------+------+\n",
            "|Secondary / secon...|122629|\n",
            "|    Higher education| 42044|\n",
            "|   Incomplete higher|  5720|\n",
            "|     Lower secondary|  2108|\n",
            "|     Academic degree|    90|\n",
            "+--------------------+------+\n",
            "\n",
            "+--------------------+------+\n",
            "|       family_status| count|\n",
            "+--------------------+------+\n",
            "|             Married|110626|\n",
            "|Single / not married| 25327|\n",
            "|      Civil marriage| 16639|\n",
            "|           Separated| 11004|\n",
            "|               Widow|  8994|\n",
            "+--------------------+------+\n",
            "only showing top 5 rows\n",
            "\n",
            "+---------------+-----+\n",
            "|occupation_type|count|\n",
            "+---------------+-----+\n",
            "|        (Empty)|54225|\n",
            "|       Laborers|31108|\n",
            "|    Sales staff|17808|\n",
            "|     Core staff|15490|\n",
            "|       Managers|11993|\n",
            "+---------------+-----+\n",
            "only showing top 5 rows\n",
            "\n",
            "+-------------------------+-----+\n",
            "|weekday_app_process_start|count|\n",
            "+-------------------------+-----+\n",
            "|                  TUESDAY|30140|\n",
            "|                WEDNESDAY|29158|\n",
            "|                   MONDAY|28531|\n",
            "|                 THURSDAY|28460|\n",
            "|                   FRIDAY|28282|\n",
            "+-------------------------+-----+\n",
            "only showing top 5 rows\n",
            "\n",
            "+----------+-----+\n",
            "|  birthday|count|\n",
            "+----------+-----+\n",
            "|1986-01-22|   28|\n",
            "|1983-03-24|   27|\n",
            "|1996-08-28|   27|\n",
            "|1984-09-05|   26|\n",
            "|1992-02-27|   25|\n",
            "+----------+-----+\n",
            "only showing top 5 rows\n",
            "\n",
            "+----------+-----+\n",
            "|age_bucket|count|\n",
            "+----------+-----+\n",
            "|         M|47280|\n",
            "|         E|40804|\n",
            "|         L|39278|\n",
            "|         N|33914|\n",
            "|         Y| 6881|\n",
            "+----------+-----+\n",
            "only showing top 5 rows\n",
            "\n",
            "+-------------+------+\n",
            "|credit_bucket| count|\n",
            "+-------------+------+\n",
            "|       medium|140201|\n",
            "|          low| 28220|\n",
            "|         high|  4170|\n",
            "+-------------+------+\n",
            "\n"
          ]
        }
      ],
      "source": [
        "# Display the top 5 based on counts in descending order\n",
        "for index, column in enumerate(non_num_cols):\n",
        "    top_5 = \"top_5_\" + non_num_cols[index]\n",
        "\n",
        "    top_5 = (df_application\n",
        "             .groupBy(non_num_cols[index])\n",
        "             .count()\n",
        "             .orderBy(col(\"count\").desc())\n",
        "            ).show(5)"
      ]
    },
    {
      "cell_type": "code",
      "execution_count": null,
      "metadata": {
        "id": "q-PrYqSYtgYh",
        "outputId": "e113a72e-ac6e-4ea6-8623-e899d4648b26"
      },
      "outputs": [
        {
          "name": "stdout",
          "output_type": "stream",
          "text": [
            "+------+------+\n",
            "|target| count|\n",
            "+------+------+\n",
            "|     1| 14060|\n",
            "|     0|158531|\n",
            "+------+------+\n",
            "\n",
            "+-----------+------+\n",
            "|flag_mobile| count|\n",
            "+-----------+------+\n",
            "|          1|172590|\n",
            "|          0|     1|\n",
            "+-----------+------+\n",
            "\n",
            "+--------------+------+\n",
            "|flag_emp_phone| count|\n",
            "+--------------+------+\n",
            "|             1|141593|\n",
            "|             0| 30998|\n",
            "+--------------+------+\n",
            "\n",
            "+---------------+------+\n",
            "|flag_work_phone| count|\n",
            "+---------------+------+\n",
            "|              1| 34441|\n",
            "|              0|138150|\n",
            "+---------------+------+\n",
            "\n",
            "+----------------+------+\n",
            "|flag_cont_mobile| count|\n",
            "+----------------+------+\n",
            "|               1|172250|\n",
            "|               0|   341|\n",
            "+----------------+------+\n",
            "\n",
            "+----------+------+\n",
            "|flag_phone| count|\n",
            "+----------+------+\n",
            "|         1| 48413|\n",
            "|         0|124178|\n",
            "+----------+------+\n",
            "\n",
            "+----------+------+\n",
            "|flag_email| count|\n",
            "+----------+------+\n",
            "|         1|  9804|\n",
            "|         0|162787|\n",
            "+----------+------+\n",
            "\n",
            "+-------+------+\n",
            "|own_car| count|\n",
            "+-------+------+\n",
            "|      Y| 58704|\n",
            "|      N|113887|\n",
            "+-------+------+\n",
            "\n",
            "+------------+------+\n",
            "|own_property| count|\n",
            "+------------+------+\n",
            "|           Y|119580|\n",
            "|           N| 53011|\n",
            "+------------+------+\n",
            "\n",
            "+----------+------+\n",
            "|is_default| count|\n",
            "+----------+------+\n",
            "|     false|167429|\n",
            "|      true|  5162|\n",
            "+----------+------+\n",
            "\n"
          ]
        }
      ],
      "source": [
        "# Display the value and count\n",
        "for index, column in enumerate(boolean_cols):\n",
        "    value_count = (df_application\n",
        "                   .groupBy(boolean_cols[index])\n",
        "                   .count()\n",
        "                  ).show()"
      ]
    },
    {
      "cell_type": "markdown",
      "metadata": {
        "id": "EqGyMkRZtgYh"
      },
      "source": [
        "1.3.2 Explore the data frame and write code to present two plots worthy of presentation to MoLoCo, describe your plots and discuss the findings from the plots. (8%)  \n",
        "- One plot must be related to the default. (e.g. what attribute/attributes are correlated to default, what kind of application/applicant has a higher probability of default, etc.)   \n",
        "- Feel free to choose any for the other plot.  \n",
        "- Hint: you can use the basic plots (e.g., histograms, line charts, scatter plots) for the relationship between a column and the label; or more advanced plots like correlation plots. If the data is too large for the plotting, consider using sampling before plotting.  \n",
        "- 150 words max for each plot’s description and discussion  \n",
        "- Feel free to use any plotting libraries: matplotlib, seabon, plotly, etc.  \n"
      ]
    },
    {
      "cell_type": "code",
      "execution_count": null,
      "metadata": {
        "id": "Wk5MkEpztgYh",
        "outputId": "7a5b8c8e-d951-4570-f934-6af1092660e8"
      },
      "outputs": [
        {
          "name": "stdout",
          "output_type": "stream",
          "text": [
            "+-------------+----------+------+------------+\n",
            "|credit_bucket|is_default| count|sorted_order|\n",
            "+-------------+----------+------+------------+\n",
            "|          low|     false| 27636|           1|\n",
            "|          low|      true|   584|           1|\n",
            "|       medium|     false|135775|           2|\n",
            "|       medium|      true|  4426|           2|\n",
            "|         high|     false|  4018|           3|\n",
            "|         high|      true|   152|           3|\n",
            "+-------------+----------+------+------------+\n",
            "\n"
          ]
        }
      ],
      "source": [
        "## Default by credit bucket\n",
        "\n",
        "# Get the dataframe ready\n",
        "# Adjust the dataframe for convience\n",
        "df_default_by_credit = (df_application\n",
        "                        .select(\"credit_bucket\", \"is_default\")\n",
        "                        .groupBy(\"credit_bucket\", \"is_default\")\n",
        "                        .count()\n",
        "                       )\n",
        "\n",
        "## Sort the string manually\n",
        "# Define sorting order\n",
        "sorted_order = {\"low\": 1, \"medium\": 2, \"high\": 3}\n",
        "\n",
        "# This function sorts value based on specified sorting order\n",
        "def manual_sort(value):\n",
        "    return sorted_order.get(value, 0)\n",
        "\n",
        "# Register as udf\n",
        "manual_sort_udf = udf(manual_sort, IntegerType())\n",
        "\n",
        "# Sort the value\n",
        "df_default_by_credit = (df_default_by_credit\n",
        "                        .withColumn(\"sorted_order\", manual_sort_udf(col(\"credit_bucket\")))\n",
        "                        .orderBy(\"sorted_order\", \"is_default\")\n",
        "                       )\n",
        "\n",
        "df_default_by_credit.show()"
      ]
    },
    {
      "cell_type": "code",
      "execution_count": null,
      "metadata": {
        "id": "FBYwx3tvtgYj",
        "outputId": "d24675a8-9fd2-4a49-c10b-d9086031f3b0"
      },
      "outputs": [
        {
          "data": {
            "image/png": "[encoded data removed]",
            "text/plain": [
              "<Figure size 640x480 with 1 Axes>"
            ]
          },
          "metadata": {},
          "output_type": "display_data"
        }
      ],
      "source": [
        "## Default by credit bucket\n",
        "\n",
        "# Prepare data for plotting\n",
        "dataframe_credit = df_default_by_credit.select(\"credit_bucket\", \"is_default\", \"count\").collect()\n",
        "\n",
        "# Define dataset\n",
        "credit_bucket = [\"low\", \"medium\", \"high\"]\n",
        "is_default = [row[\"is_default\"] for row in dataframe_credit]\n",
        "\n",
        "credit_bucket_count = {\"true\": [], \"false\": []}\n",
        "\n",
        "for row in dataframe_credit:\n",
        "    credit_bucket_count[row[\"is_default\"]].append(row[\"count\"])\n",
        "\n",
        "x = credit_bucket\n",
        "y_true = credit_bucket_count[\"true\"]\n",
        "y_false = credit_bucket_count[\"false\"]\n",
        "\n",
        "\n",
        "# Set position of bar\n",
        "x_axis = np.arange(len(x))\n",
        "\n",
        "# Make the plot\n",
        "plt.bar(x_axis - 0.2, y_true, 0.4, label = 'true')\n",
        "plt.bar(x_axis + 0.2, y_false, 0.4, label = 'false')\n",
        "\n",
        "plt.xticks(x_axis, x)\n",
        "\n",
        "# Add labels and title\n",
        "plt.xlabel(\"Default count by credit bucket\")\n",
        "plt.ylabel(\"Number of loan transactions\")\n",
        "plt.title(\"Number of default in credit bucket\")\n",
        "\n",
        "# Create legend and show graph\n",
        "plt.legend()\n",
        "plt.show()"
      ]
    },
    {
      "cell_type": "markdown",
      "metadata": {
        "id": "WvgGpH0FtgYj"
      },
      "source": [
        "### Default related to credit and income: default by credit bucket\n",
        "\n",
        "In the above histogram, I plotted the number of defaults in each credit bucket.\n",
        "\n",
        "As we can see, the medium credit applicants have the highest number of defaults, which is reasonable given the medium bucket contains most of the applicants. However, the default in low and high buckets are not obvious. I have made the following table to increase the readability of this visualisation.\n",
        "\n",
        "|credit bucket|percentage of default|\n",
        "| --- | --- |\n",
        "| low | 2.07% |\n",
        "| medium | 3.16% |\n",
        "| high | 3.65% |\n",
        "\n",
        "Surprisingly, applicants in high credit buckets have the highest percentage of default rate. One of my guesses is that high credit applicants tend to get larger amounts of loan compared to their income, which gives them the ability to make high risk investments, thus increasing their default risks."
      ]
    },
    {
      "cell_type": "code",
      "execution_count": null,
      "metadata": {
        "id": "sATLiUmJtgYj",
        "outputId": "fd5866f9-ef46-43af-8903-278511ab6f3d"
      },
      "outputs": [
        {
          "data": {
            "text/plain": [
              "<matplotlib.collections.PathCollection at 0xffff3332f2b0>"
            ]
          },
          "execution_count": 194,
          "metadata": {},
          "output_type": "execute_result"
        },
        {
          "data": {
            "image/png": "[encoded data removed]",
            "text/plain": [
              "<Figure size 640x480 with 1 Axes>"
            ]
          },
          "metadata": {},
          "output_type": "display_data"
        }
      ],
      "source": [
        "## Default by total credit-to-income ratio\n",
        "\n",
        "# Get the dataframe ready\n",
        "df_default_by_ratio = (df_application\n",
        "                       .select(\"total_credit_to_income_ratio\", \"is_default\")\n",
        "                      )\n",
        "\n",
        "# Prepare data for plotting\n",
        "dataframe_scatter = df_default_by_ratio.collect()\n",
        "\n",
        "# Define dataset\n",
        "total_credit_to_income_ratio = [row[\"total_credit_to_income_ratio\"] for row in dataframe_scatter]\n",
        "is_default = [row[\"is_default\"] for row in dataframe_scatter]\n",
        "\n",
        "x = total_credit_to_income_ratio\n",
        "y = is_default\n",
        "\n",
        "# Make the plot\n",
        "plt.scatter(x, y, c = \"blue\", s = 0.08)"
      ]
    },
    {
      "cell_type": "markdown",
      "metadata": {
        "id": "-6FioIwEtgYk"
      },
      "source": [
        "### Default related to credit and income: default by total credit-to-income ratio\n",
        "\n",
        "Given the previous speculation that applicants with higher total credit-to-income ratio are more likely to default, I plotted this scatter plot to produce the visualisation about distribution of default based on total credit-to-income ratio.\n",
        "\n",
        "For ratios under 35 to 40, the probability of default does not have a significant difference. From 40 to 85, there are more default situations than otherwise. From 85 above, according to this dataset, there have been no records showing non-default cases."
      ]
    },
    {
      "cell_type": "code",
      "execution_count": null,
      "metadata": {
        "id": "xcJXvHCUtgYk",
        "outputId": "447a9a06-2486-446a-84ba-43b2d8276fb7"
      },
      "outputs": [
        {
          "name": "stdout",
          "output_type": "stream",
          "text": [
            "+------+----------+------+\n",
            "|gender|is_default| count|\n",
            "+------+----------+------+\n",
            "|     F|     false|109026|\n",
            "|     F|      true|  4441|\n",
            "|     M|     false| 58400|\n",
            "|     M|      true|   721|\n",
            "+------+----------+------+\n",
            "\n"
          ]
        }
      ],
      "source": [
        "## Default by gender\n",
        "# Get the dataframe ready\n",
        "# Adjust the dataframe for convience\n",
        "df_default_by_gender = (df_application\n",
        "                        .filter(col(\"gender\") != \"XNA\")\n",
        "                        .select(\"gender\", \"is_default\")\n",
        "                        .groupBy(\"gender\", \"is_default\")\n",
        "                        .count()\n",
        "                        .sort(\"gender\", \"is_default\")\n",
        "                       )\n",
        "\n",
        "df_default_by_gender.show()"
      ]
    },
    {
      "cell_type": "code",
      "execution_count": null,
      "metadata": {
        "id": "awMt-szAtgYl",
        "outputId": "028021d5-0ae5-4319-9cd8-c5ab91656308"
      },
      "outputs": [
        {
          "data": {
            "image/png": "[encoded data removed]",
            "text/plain": [
              "<Figure size 640x480 with 1 Axes>"
            ]
          },
          "metadata": {},
          "output_type": "display_data"
        }
      ],
      "source": [
        "## Default by gender\n",
        "\n",
        "# Prepare data for plotting\n",
        "dataframe_gender = df_default_by_gender.select(\"gender\", \"is_default\", \"count\").collect()\n",
        "\n",
        "# Define dataset\n",
        "default_situation = [\"Not default\", \"Default\"]\n",
        "gender = [row[\"gender\"] for row in dataframe_gender]\n",
        "\n",
        "gender_group_count = {\"F\": [], \"M\": []}\n",
        "\n",
        "for row in dataframe_gender:\n",
        "    gender_group_count[row[\"gender\"]].append(row[\"count\"])\n",
        "\n",
        "x = default_situation\n",
        "y_female = gender_group_count[\"F\"]\n",
        "y_male = gender_group_count[\"M\"]\n",
        "\n",
        "# Make the plot\n",
        "plt.bar(x, y_female, color = \"c\", label = \"Female\")\n",
        "plt.bar(x, y_male, bottom = y_female, color = \"m\", label = \"Male\")\n",
        "\n",
        "\n",
        "# Add labels and title\n",
        "plt.xlabel(\"Default situation\")\n",
        "plt.ylabel(\"Number of default by gender\")\n",
        "plt.title(\"Default situation acorss gender group\")\n",
        "\n",
        "# Create legend and show graph\n",
        "plt.legend()\n",
        "plt.show()"
      ]
    },
    {
      "cell_type": "markdown",
      "metadata": {
        "id": "VRRLvWPFtgYm"
      },
      "source": [
        "### Default by gender\n",
        "\n",
        "This stacked bar chart visualise the distribution of default situations across gender.\n",
        "\n",
        "To increase the readability of this graph, I made the following table:\n",
        "\n",
        "|gender|percentage of default within gender group| gender percentage of all default|\n",
        "| --- | --- | --- |\n",
        "|Female| 3.91% | 86.03%|\n",
        "|Male| 1.22% |13.97% |\n",
        "\n",
        "The table shows majority cases of default are by female applicants. Within the same gender, the probability of female defaulting is around 4 in 100, while 3 in 200 for male. This does not necessarily mean that female applicants are more likely to default compared to males. In fact, based on the bank's decision, it seems that females are better loan candidates given the distribution of loan transactions. The reason behind these statistics could be social economic disadvantage against females, small sample size of loan application (especially for male), and other reasons we are not aware of."
      ]
    },
    {
      "cell_type": "markdown",
      "metadata": {
        "id": "m_EKL1oCtgYm"
      },
      "source": [
        "## Part 2. Feature extraction and ML training <a class=\"anchor\" name=\"part-2\"></a>\n",
        "In this section, you are only allowed to use PySpark DataFrame functions and ML packages for data preparation, model building, and evaluation. Other ML packages, such as scikit-learn, would receive zero marks. Excessive usage of Spark SQL is discouraged.\n",
        "### 2.1 Discuss the feature selection and prepare the feature columns\n",
        "\n",
        "2.1.1 Based on the data exploration from 1.2 and considering the use case, discuss the importance of those features. (For example, which features may be useless and should be removed, which feature has a great impact on the label column, which should be transformed) Which features you are planning to use? Discuss the reasons for selecting them and how you create/transform them\n",
        "- 300 words max for the discussion\n",
        "- Feel free to add/remove features based on your exploration"
      ]
    },
    {
      "cell_type": "code",
      "execution_count": null,
      "metadata": {
        "id": "70E3mjuctgYn",
        "outputId": "3af8c5a4-ca23-4f90-84bc-f5a3be49e731"
      },
      "outputs": [
        {
          "name": "stdout",
          "output_type": "stream",
          "text": [
            "+------------+----------+-----+\n",
            "|flag_contact|is_default|count|\n",
            "+------------+----------+-----+\n",
            "|           1|     false|19925|\n",
            "|           1|      true| 1287|\n",
            "|           2|     false|88291|\n",
            "|           2|      true| 2335|\n",
            "|           3|     false|38792|\n",
            "|           3|      true|  971|\n",
            "|           4|     false|19327|\n",
            "|           4|      true|  535|\n",
            "|           5|     false| 1094|\n",
            "|           5|      true|   34|\n",
            "+------------+----------+-----+\n",
            "\n"
          ]
        },
        {
          "data": {
            "image/png": "[encoded data removed]",
            "text/plain": [
              "<Figure size 640x480 with 1 Axes>"
            ]
          },
          "metadata": {},
          "output_type": "display_data"
        }
      ],
      "source": [
        "## Explore \"flag_contact\"\n",
        "\n",
        "# Create \"flag_contact\" by adding up flags of contact info provided\n",
        "df_test = df_application.select(\"id_app\", \"flag_mobile\", \"flag_emp_phone\", \"flag_work_phone\", \"flag_phone\", \"flag_email\", \"is_default\")\n",
        "\n",
        "df_test = df_test.withColumn(\"flag_contact\", col(\"flag_mobile\") + col(\"flag_emp_phone\") + col(\"flag_work_phone\") + col(\"flag_phone\") + col(\"flag_email\"))\n",
        "\n",
        "# Group number of default against number of contact provided\n",
        "df_test = df_test.groupBy(\"flag_contact\", \"is_default\").count().orderBy(\"flag_contact\", \"is_default\").select(\"flag_contact\", \"is_default\", \"count\")\n",
        "\n",
        "df_test.show()\n",
        "\n",
        "# Prepare data for plotting\n",
        "dataframe_test = df_test.collect()\n",
        "\n",
        "# Define dataset\n",
        "flag_bucket = [\"1\", \"2\", \"3\", \"4\", \"5\"]\n",
        "is_default = [row[\"is_default\"] for row in dataframe_test]\n",
        "\n",
        "flag_bucket_count = {\"true\": [], \"false\": []}\n",
        "\n",
        "for row in dataframe_test:\n",
        "    flag_bucket_count[row[\"is_default\"]].append(row[\"count\"])\n",
        "\n",
        "x = flag_bucket\n",
        "y_true_test = flag_bucket_count[\"true\"]\n",
        "y_false_test = flag_bucket_count[\"false\"]\n",
        "\n",
        "\n",
        "# Set position of bar\n",
        "x_axis = np.arange(len(x))\n",
        "\n",
        "# Make the plot\n",
        "plt.bar(x_axis - 0.2, y_true_test, 0.4, label = 'true')\n",
        "plt.bar(x_axis + 0.2, y_false_test, 0.4, label = 'false')\n",
        "\n",
        "plt.xticks(x_axis, x)\n",
        "\n",
        "# Add labels and title\n",
        "plt.xlabel(\"Number of contact information provided\")\n",
        "plt.ylabel(\"Number of loan transactions\")\n",
        "plt.title(\"Number of default across number of contact info\")\n",
        "\n",
        "# Create legend and show graph\n",
        "plt.legend()\n",
        "plt.show()"
      ]
    },
    {
      "cell_type": "markdown",
      "metadata": {
        "id": "bBSse73mtgYn"
      },
      "source": [
        "### Discussion of features\n",
        "\n",
        "1. Features to remove\n",
        "\n",
        "- \"id_app\": only used for identifying applicants, does not provide useful information\n",
        "- \"target\": not in use according to metadata file\n",
        "- \"age\", \"birthday\": created for visulisation, repeated information\n",
        "- \"days_birth\", \"average_credit_score\", \"credit_score_1\", \"credit_score_2\", \"credit_score_3\": the calculated field \"age_bucket\" and \"credit_bucket\" contains the simialr information respectively and are more useful\n",
        "- \"amt_credit_req_last_hour\", \"amt_credit_req_last_day\", \"amt_credit_req_last_week\", \"amt_credit_req_last_month\", \"amt_credit_req_last_quarter\": only keeping \"amt_credit_req_last_year\", as the rest are repeated information\n",
        "- \"weekday_app_process_start\", \"hour_app_process_start\": not useful information\n",
        "- \"region_population\": not useful information\n",
        "- \"total_credit\": repeated information with \"total_credit_to_income_ratio\"\n",
        "- \"own_car\": repeated information given \"own_car_age\"\n",
        "\n",
        "2. Features to transform\n",
        "\n",
        "- Create \"income_bucket\" based on tax threshold, remove \"income_total\" as repeated information\n",
        "- Create \"flag_contact\" as numerical value to the willingness of the applicant been contacted, remove \"flag_mobile\", \"flag_emp_phone\", \"flag_work_phone\", \"flag_phone\", \"flag_email\" as repeated information, but we leave out \"flag_cont_mobile\" as it measure whether the contact info provided are reachable\n",
        "\n",
        "    As we can see from the exploration, there is most defualt case for those who provided no contact info. I calculated the table below to increase the readability of the visulisation, and noticed those who provide four contact have the second highest default rate, while those who provided two contact info have the lowest.\n",
        "\n",
        " |number of contact info | percentage of default within the group |\n",
        " | --- | --- |\n",
        " | 1 | 6.07% |\n",
        " | 2 | 2.58% |\n",
        " | 3 | 2.44% |\n",
        " | 4 | 2.69% |\n",
        " | 5 | 3.01% |    \n",
        "\n",
        "3. Features to watch\n",
        "\n",
        "- According to data exploration from 1.2, credit bucket, total credit-to-income ratio, and demographic information on applicants (such as gender, potentially marital status, ownership of car and property) may have a great impact on the label column.\n",
        "\n",
        "- According to data exploration above, the willingness of applicants for providing contact info may associate with their probability to default."
      ]
    },
    {
      "cell_type": "markdown",
      "metadata": {
        "id": "lea-R8w5tgYn"
      },
      "source": [
        "2.1.2 Write code to create/transform the columns based on your discussion above.\n"
      ]
    },
    {
      "cell_type": "code",
      "execution_count": null,
      "metadata": {
        "id": "oiuj89xRtgYo",
        "outputId": "c4ae10fe-4219-449d-d6ff-6c2078ae6d0b"
      },
      "outputs": [
        {
          "name": "stdout",
          "output_type": "stream",
          "text": [
            "+------------+-------------+\n",
            "|income_total|income_bucket|\n",
            "+------------+-------------+\n",
            "|     90000.0|            3|\n",
            "|    630000.0|            5|\n",
            "|    112500.0|            3|\n",
            "|    135000.0|            4|\n",
            "|    135000.0|            4|\n",
            "|     81000.0|            3|\n",
            "|    135000.0|            4|\n",
            "|    180000.0|            4|\n",
            "|    180000.0|            4|\n",
            "|     58500.0|            3|\n",
            "|     90000.0|            3|\n",
            "|     90000.0|            3|\n",
            "|     67500.0|            3|\n",
            "|    144000.0|            4|\n",
            "|     67500.0|            3|\n",
            "|    157500.0|            4|\n",
            "|    225000.0|            5|\n",
            "|     90000.0|            3|\n",
            "|    135000.0|            4|\n",
            "|     45000.0|            2|\n",
            "+------------+-------------+\n",
            "only showing top 20 rows\n",
            "\n"
          ]
        }
      ],
      "source": [
        "## Create income bucket\n",
        "\n",
        "# This function takes income and produce income bucket value\n",
        "def income_bucket(income):\n",
        "    if income is None:\n",
        "        income_bucket = 0\n",
        "    else:\n",
        "        income = int(income)\n",
        "        if income <= 18200:\n",
        "            income_bucket = 1\n",
        "        elif income <= 45000:\n",
        "            income_bucket = 2\n",
        "        elif income <= 120000:\n",
        "            income_bucket = 3\n",
        "        elif income <= 180000:\n",
        "            income_bucket = 4\n",
        "        else:\n",
        "            income_bucket = 5\n",
        "    return income_bucket\n",
        "\n",
        "\n",
        "# Register income_bucket as udf\n",
        "income_bucket_udf = udf(income_bucket, IntegerType())\n",
        "\n",
        "# Generate income bucket\n",
        "df_application = df_application.withColumn(\"income_bucket\", income_bucket_udf(col(\"income_total\")))\n",
        "\n",
        "df_application.select(\"income_total\", \"income_bucket\").show()"
      ]
    },
    {
      "cell_type": "code",
      "execution_count": null,
      "metadata": {
        "id": "bMck849-tgYp",
        "outputId": "806ba0f9-b9db-43d6-f4c1-0b2d697fa415"
      },
      "outputs": [
        {
          "name": "stdout",
          "output_type": "stream",
          "text": [
            "+-----------+--------------+---------------+----------+----------+------------+\n",
            "|flag_mobile|flag_emp_phone|flag_work_phone|flag_phone|flag_email|flag_contact|\n",
            "+-----------+--------------+---------------+----------+----------+------------+\n",
            "|          1|             0|              0|         0|         0|           1|\n",
            "|          1|             0|              0|         0|         0|           1|\n",
            "|          1|             1|              0|         0|         0|           2|\n",
            "|          1|             1|              0|         1|         0|           3|\n",
            "|          1|             1|              0|         0|         0|           2|\n",
            "|          1|             1|              1|         0|         0|           3|\n",
            "|          1|             1|              0|         0|         0|           2|\n",
            "|          1|             0|              0|         0|         0|           1|\n",
            "|          1|             1|              0|         1|         0|           3|\n",
            "|          1|             0|              0|         0|         0|           1|\n",
            "|          1|             0|              0|         0|         0|           1|\n",
            "|          1|             0|              0|         1|         0|           2|\n",
            "|          1|             1|              1|         0|         0|           3|\n",
            "|          1|             0|              0|         0|         0|           1|\n",
            "|          1|             0|              0|         0|         0|           1|\n",
            "|          1|             0|              0|         0|         0|           1|\n",
            "|          1|             1|              1|         1|         0|           4|\n",
            "|          1|             0|              0|         1|         0|           2|\n",
            "|          1|             1|              0|         0|         0|           2|\n",
            "|          1|             0|              0|         0|         0|           1|\n",
            "+-----------+--------------+---------------+----------+----------+------------+\n",
            "only showing top 20 rows\n",
            "\n"
          ]
        }
      ],
      "source": [
        "## Creat flag_contact\n",
        "\n",
        "df_application = df_application.withColumn(\"flag_contact\", col(\"flag_mobile\") + col(\"flag_emp_phone\") + col(\"flag_work_phone\") + col(\"flag_phone\") + col(\"flag_email\"))\n",
        "\n",
        "df_application.select(\"flag_mobile\", \"flag_emp_phone\", \"flag_work_phone\", \"flag_phone\", \"flag_email\", \"flag_contact\").show()"
      ]
    },
    {
      "cell_type": "code",
      "execution_count": null,
      "metadata": {
        "id": "tjgpAQsqtgYp",
        "outputId": "123726c2-c67b-4e3c-f8c2-f1af0f492da3"
      },
      "outputs": [
        {
          "name": "stdout",
          "output_type": "stream",
          "text": [
            "root\n",
            " |-- contract_type: integer (nullable = true)\n",
            " |-- gender: string (nullable = true)\n",
            " |-- own_property: string (nullable = true)\n",
            " |-- num_of_children: integer (nullable = true)\n",
            " |-- amt_credit: float (nullable = true)\n",
            " |-- amt_annuity: float (nullable = true)\n",
            " |-- amt_goods_price: float (nullable = true)\n",
            " |-- income_type: string (nullable = true)\n",
            " |-- education_type: string (nullable = true)\n",
            " |-- family_status: string (nullable = true)\n",
            " |-- housing_type: integer (nullable = true)\n",
            " |-- days_employed: integer (nullable = true)\n",
            " |-- own_car_age: float (nullable = true)\n",
            " |-- flag_cont_mobile: integer (nullable = true)\n",
            " |-- occupation_type: string (nullable = true)\n",
            " |-- cnt_fam_members: float (nullable = true)\n",
            " |-- organization_type: integer (nullable = true)\n",
            " |-- days_last_phone_change: integer (nullable = true)\n",
            " |-- amt_credit_req_last_year: float (nullable = true)\n",
            " |-- loan_to_income_ratio: double (nullable = true)\n",
            " |-- age_bucket: string (nullable = true)\n",
            " |-- credit_bucket: string (nullable = true)\n",
            " |-- num_of_prev_app: long (nullable = true)\n",
            " |-- num_of_approved_app: long (nullable = true)\n",
            " |-- total_credit_to_income_ratio: double (nullable = true)\n",
            " |-- is_default: string (nullable = true)\n",
            " |-- income_bucket: integer (nullable = true)\n",
            " |-- flag_contact: integer (nullable = true)\n",
            "\n"
          ]
        }
      ],
      "source": [
        "## Drop columns\n",
        "\n",
        "df_application = df_application.drop(\"id_app\", \"target\", \"age\", \"birthday\", \"days_birth\", \"average_credit_score\", \"credit_score_1\", \"credit_score_2\", \"credit_score_3\", \"income_total\", \"flag_mobile\", \"flag_emp_phone\", \"flag_work_phone\", \"flag_phone\", \"flag_email\", \"amt_credit_req_last_hour\", \"amt_credit_req_last_day\", \"amt_credit_req_last_week\", \"amt_credit_req_last_month\", \"amt_credit_req_last_quarter\", \"weekday_app_process_start\", \"hour_app_process_start\", \"region_population\", \"total_credit\", \"own_car\")\n",
        "\n",
        "df_application.printSchema()"
      ]
    },
    {
      "cell_type": "markdown",
      "metadata": {
        "id": "nWNv-3ahtgYp"
      },
      "source": [
        "### 2.2 Preparing Spark ML Transformers/Estimators for features, labels, and models  <a class=\"anchor\" name=\"2.2\"></a>\n",
        "\n",
        "2.2.1 Write code to create Transformers/Estimators for transforming/assembling the columns you selected above in 2.1, and create ML model Estimators for Random Forest (RF) and Gradient-boosted tree (GBT) model.  \n",
        "**Please DO NOT fit/transform the data yet**"
      ]
    },
    {
      "cell_type": "code",
      "execution_count": null,
      "metadata": {
        "id": "sY77Zxo-tgYp"
      },
      "outputs": [],
      "source": [
        "numerical_cols = ['num_of_children', 'amt_credit', 'amt_annuity', 'amt_goods_price', 'days_employed', 'own_car_age', 'cnt_fam_members', 'days_last_phone_change', 'amt_credit_req_last_year', 'loan_to_income_ratio', 'num_of_prev_app', 'num_of_approved_app', 'total_credit_to_income_ratio', \"income_bucket\", \"flag_contact\"]\n",
        "\n",
        "# \"income_bucket\", \"flag_contact\" are ordinal value and dont need string indexing or one hot encoding, therefore included in numerical_cols\n",
        "\n",
        "string_cols = ['gender', 'education_type', 'income_type', 'family_status', 'occupation_type', 'own_property']\n",
        "\n",
        "label_cols = [\"is_default\"]\n",
        "\n",
        "ordinal_cols = [\"credit_bucket\", \"age_bucket\"]\n",
        "\n",
        "nominal_cols = ['contract_type', 'housing_type', 'organization_type', 'flag_cont_mobile']"
      ]
    },
    {
      "cell_type": "code",
      "execution_count": null,
      "metadata": {
        "id": "5DQ0LAP6tgYq"
      },
      "outputs": [],
      "source": [
        "# Define StringIndexer stages\n",
        "indexers = [StringIndexer(inputCol = col, outputCol = col + \"_index\") for col in string_cols + ordinal_cols + label_cols]\n",
        "\n",
        "# Define OneHotEncoder stages\n",
        "encoders = [OneHotEncoder(inputCols=[col + \"_index\" if col in string_cols else col], outputCols=[col + \"_vec\"]) for col in nominal_cols + string_cols]\n",
        "\n",
        "# Define VectorAssembler stage\n",
        "assembler_cols = [col + \"_vec\" for col in nominal_cols + string_cols] + [col + \"_index\" for col in ordinal_cols] + numerical_cols\n",
        "assembler = VectorAssembler(inputCols=assembler_cols, outputCol=\"features\", handleInvalid=\"skip\")\n",
        "\n"
      ]
    },
    {
      "cell_type": "markdown",
      "metadata": {
        "id": "eFTCPkUWtgYr"
      },
      "source": [
        "2.2.2 Write code to include the above Transformers/Estimators into two pipelines(RF and GBT).\n",
        "**Please DO NOT fit/transform the data yet**"
      ]
    },
    {
      "cell_type": "code",
      "execution_count": null,
      "metadata": {
        "id": "ShIkmJD7tgYr"
      },
      "outputs": [],
      "source": [
        "# Create a Pipeline for RF and GBT\n",
        "pipeline = Pipeline(stages=indexers + encoders + [assembler])"
      ]
    },
    {
      "cell_type": "markdown",
      "metadata": {
        "id": "e1SQ3VQPtgYs"
      },
      "source": [
        "### 2.3 Prepare, Train and Evaluate models  \n",
        "2.3.1 Write code to split the data for training and testing purposes. (Note: if the dataset is too large for your machine to train, sampling/sub-sampling is allowed.)"
      ]
    },
    {
      "cell_type": "code",
      "execution_count": null,
      "metadata": {
        "id": "zd0cazEJtgYt",
        "outputId": "df5c606e-37a7-449c-dae1-b39f50e39d20"
      },
      "outputs": [
        {
          "name": "stdout",
          "output_type": "stream",
          "text": [
            "+-------------------------------------------------------------------------------------------------------------------------------------------------------------------------------------------------------------------------+\n",
            "|features                                                                                                                                                                                                                 |\n",
            "+-------------------------------------------------------------------------------------------------------------------------------------------------------------------------------------------------------------------------+\n",
            "|(121,[63,68,72,73,81,86,107,108,109,110,111,112,113,114,115,116,117,118,119,120],[1.0,1.0,1.0,1.0,1.0,1.0,308133.0,16713.0,234000.0,-659.0,6.0,1.0,-638.0,1.0,3.2607,2.0,2.0,1.04,3.0,2.0])                              |\n",
            "|(121,[44,67,69,73,80,86,103,104,105,107,108,109,110,111,112,114,115,116,117,118,119,120],[1.0,1.0,1.0,1.0,1.0,1.0,1.0,2.0,2.0,808650.0,26217.0,675000.0,-682.0,16.0,2.0,2.0,8.985,3.0,1.0,1.0,3.0,3.0])                  |\n",
            "|(121,[44,68,69,73,83,86,103,105,106,107,108,109,110,111,112,114,115,116,117,118,119,120],[1.0,1.0,1.0,1.0,1.0,1.0,1.0,2.0,2.0,927000.0,30766.5,927000.0,-1359.0,23.0,3.0,2.0,2.9429,3.0,3.0,0.48,5.0,2.0])               |\n",
            "|(121,[39,67,70,75,80,85,105,107,108,109,110,111,112,113,115,116,117,118,119,120],[1.0,1.0,1.0,1.0,1.0,1.0,3.0,900000.0,26316.0,900000.0,365243.0,22.0,2.0,-358.0,12.5,1.0,1.0,2.23,3.0,2.0])                             |\n",
            "|(121,[17,68,69,73,82,86,104,105,107,108,109,110,111,112,113,115,116,117,118,119,120],[1.0,1.0,1.0,1.0,1.0,1.0,1.0,1.0,337761.0,17815.5,256500.0,-765.0,7.0,2.0,-285.0,1.8765,1.0,1.0,0.52,4.0,2.0])                      |\n",
            "|(121,[44,67,69,73,81,87,103,104,105,107,108,109,110,111,112,113,114,115,116,117,118,119,120],[1.0,1.0,1.0,1.0,1.0,1.0,1.0,1.0,1.0,54000.0,5944.5,54000.0,-530.0,65.0,1.0,-533.0,3.0,0.75,9.0,5.0,4.78,3.0,2.0])          |\n",
            "|(121,[39,68,69,75,80,85,103,105,106,107,108,109,110,111,112,113,114,115,116,117,118,119,120],[1.0,1.0,1.0,1.0,1.0,1.0,1.0,3.0,4.0,1223010.0,51948.0,1125000.0,365243.0,3.0,6.0,-1732.0,3.0,1.9413,10.0,3.0,3.34,5.0,1.0])|\n",
            "|(121,[58,67,70,73,80,87,103,105,107,108,109,110,111,112,113,115,116,117,118,119,120],[1.0,1.0,1.0,1.0,1.0,1.0,1.0,2.0,891072.0,40396.5,720000.0,-2586.0,3.0,2.0,-379.0,3.3003,1.0,1.0,1.13,5.0,2.0])                     |\n",
            "|(121,[44,67,69,73,80,85,103,104,105,106,107,108,109,110,111,112,113,114,115,116,117,118,119,120],[1.0,1.0,1.0,1.0,1.0,1.0,1.0,1.0,1.0,2.0,53910.0,3645.0,45000.0,-852.0,12.0,4.0,-678.0,2.0,0.7488,4.0,2.0,1.25,3.0,4.0])|\n",
            "|(121,[25,68,69,73,80,86,103,107,108,109,110,111,112,113,114,115,116,117,118,119,120],[1.0,1.0,1.0,1.0,1.0,1.0,1.0,351792.0,17055.0,252000.0,-3861.0,8.0,2.0,-615.0,1.0,3.127,2.0,1.0,0.32,3.0,2.0])                      |\n",
            "|(121,[44,68,69,73,80,98,103,106,107,108,109,110,111,112,113,114,115,116,117,118,119,120],[1.0,1.0,1.0,1.0,1.0,1.0,1.0,1.0,258709.5,27990.0,234000.0,-3071.0,12.0,3.0,-752.0,5.0,3.8327,2.0,1.0,1.55,3.0,3.0])            |\n",
            "|(121,[9,68,70,73,80,89,103,107,108,109,110,111,112,113,114,115,116,117,118,119,120],[1.0,1.0,1.0,1.0,1.0,1.0,1.0,1147500.0,45508.5,1147500.0,-2049.0,9.0,2.0,-2714.0,4.0,5.1,5.0,4.0,3.09,5.0,4.0])                      |\n",
            "|(121,[58,68,69,73,80,90,105,107,108,109,110,111,112,113,114,115,116,117,118,119,120],[1.0,1.0,1.0,1.0,1.0,1.0,3.0,923454.0,35910.0,661500.0,-1453.0,17.0,2.0,-1.0,1.0,8.2085,4.0,4.0,6.63,3.0,2.0])                      |\n",
            "|(121,[39,67,69,75,80,85,103,105,107,108,109,110,111,112,113,114,115,116,117,118,119,120],[1.0,1.0,1.0,1.0,1.0,1.0,1.0,3.0,270126.0,13122.0,193500.0,365243.0,20.0,2.0,-1546.0,4.0,1.7151,8.0,7.0,22.91,4.0,1.0])         |\n",
            "|(121,[50,67,69,73,80,87,103,104,105,107,108,109,110,111,112,113,114,115,116,117,118,119,120],[1.0,1.0,1.0,1.0,1.0,1.0,1.0,2.0,2.0,314100.0,13437.0,225000.0,-4440.0,4.0,2.0,-597.0,3.0,3.49,5.0,3.0,1.64,3.0,2.0])       |\n",
            "|(121,[47,67,70,74,80,87,105,106,107,108,109,110,112,113,114,115,116,117,118,119,120],[1.0,1.0,1.0,1.0,1.0,1.0,1.0,2.0,675000.0,26284.5,675000.0,-546.0,4.0,-2632.0,1.0,5.4545,3.0,3.0,2.38,4.0,2.0])                     |\n",
            "|(121,[23,68,69,73,80,86,107,108,109,110,111,112,113,114,115,116,117,118,119,120],[1.0,1.0,1.0,1.0,1.0,1.0,675000.0,37692.0,675000.0,-3014.0,23.0,2.0,-1466.0,3.0,5.3571,3.0,1.0,0.11,4.0,3.0])                           |\n",
            "|(121,[33,68,69,73,80,90,107,108,109,110,111,112,113,114,115,116,117,118,119,120],[1.0,1.0,1.0,1.0,1.0,1.0,979992.0,31743.0,702000.0,-1447.0,2.0,2.0,-584.0,1.0,5.4444,1.0,1.0,1.82,4.0,2.0])                             |\n",
            "|(121,[44,67,70,74,81,90,105,107,108,109,110,111,112,113,114,115,116,117,118,119,120],[1.0,1.0,1.0,1.0,1.0,1.0,1.0,467667.0,23886.0,423000.0,-1661.0,3.0,1.0,-1106.0,1.0,1.2991,2.0,2.0,1.01,5.0,2.0])                    |\n",
            "|(121,[58,67,69,73,80,87,103,105,107,108,109,110,111,112,113,114,115,116,117,118,119,120],[1.0,1.0,1.0,1.0,1.0,1.0,1.0,3.0,900000.0,48955.5,900000.0,-6655.0,9.0,2.0,-127.0,2.0,4.4444,4.0,2.0,0.47,5.0,3.0])             |\n",
            "+-------------------------------------------------------------------------------------------------------------------------------------------------------------------------------------------------------------------------+\n",
            "only showing top 20 rows\n",
            "\n"
          ]
        }
      ],
      "source": [
        "# Fit and Transform the DataFrame for random forest model\n",
        "pipelineModel = pipeline.fit(df_application)\n",
        "df_transformed = pipelineModel.transform(df_application)\n",
        "\n",
        "df_transformed.select(\"features\").show(truncate=False)"
      ]
    },
    {
      "cell_type": "code",
      "execution_count": null,
      "metadata": {
        "id": "QkM4M0tvtgYu"
      },
      "outputs": [],
      "source": [
        "# Separate label from feature\n",
        "df_transformed = df_transformed.withColumnRenamed('is_default_index', 'label')"
      ]
    },
    {
      "cell_type": "code",
      "execution_count": null,
      "metadata": {
        "id": "fbCNCG9JtgYu"
      },
      "outputs": [],
      "source": [
        "# Sample the dataset due to limited computation resources\n",
        "percentage = 0.005\n",
        "seed = 2024\n",
        "df_sampled = df_transformed.sample(False, percentage, seed)"
      ]
    },
    {
      "cell_type": "code",
      "execution_count": null,
      "metadata": {
        "id": "sPnVrASttgYw"
      },
      "outputs": [],
      "source": [
        "## For RF model\n",
        "# Splitting the data into testing and training set 80% into training and 20% for testing\n",
        "train_rf, test_rf = df_sampled.randomSplit([0.8, 0.2], seed = 2024)\n",
        "\n",
        "# Oversample label = 1 due to imbalanced data\n",
        "train_1 = train_rf.where(col('label')==1).sample(True, 100.0, seed = 2024)\n",
        "train_0 = train_rf.where(col('label')==0)\n",
        "train_rf_oversampled = train_0.union(train_1)\n",
        "\n",
        "### Reference [4]"
      ]
    },
    {
      "cell_type": "code",
      "execution_count": null,
      "metadata": {
        "id": "zy7EilMZtgYw"
      },
      "outputs": [],
      "source": [
        "## For GBT model\n",
        "#Splitting the data into testing and training set 80% into training and 20% for testing\n",
        "train_gbt, test_gbt = df_sampled.randomSplit([0.8, 0.2], seed = 2024)"
      ]
    },
    {
      "cell_type": "markdown",
      "metadata": {
        "id": "xZhgZegmtgYw"
      },
      "source": [
        "2.3.2 Write code to use the corresponding ML Pipelines to train the models on the training data. And then use the trained models to predict the testing data from 2.3."
      ]
    },
    {
      "cell_type": "code",
      "execution_count": null,
      "metadata": {
        "id": "ewtZ_bUmtgYw",
        "outputId": "783cf39c-3859-4e71-8724-d9e0410f3308"
      },
      "outputs": [
        {
          "name": "stdout",
          "output_type": "stream",
          "text": [
            "+--------------------+-----+----------+\n",
            "|            features|label|prediction|\n",
            "+--------------------+-----+----------+\n",
            "|(121,[1,9,67,69,7...|  0.0|       0.0|\n",
            "|(121,[1,44,68,70,...|  0.0|       0.0|\n",
            "|(121,[17,67,69,73...|  0.0|       0.0|\n",
            "|(121,[44,67,70,73...|  0.0|       0.0|\n",
            "|(121,[23,67,69,74...|  0.0|       0.0|\n",
            "|(121,[29,67,69,74...|  0.0|       0.0|\n",
            "|(121,[39,67,69,75...|  0.0|       0.0|\n",
            "|(121,[6,30,67,70,...|  0.0|       0.0|\n",
            "|(121,[58,67,69,73...|  0.0|       0.0|\n",
            "|(121,[10,67,70,74...|  0.0|       0.0|\n",
            "|(121,[50,67,70,73...|  0.0|       0.0|\n",
            "|(121,[36,67,69,74...|  0.0|       0.0|\n",
            "|(121,[44,68,69,73...|  0.0|       0.0|\n",
            "|(121,[58,68,69,73...|  0.0|       0.0|\n",
            "|(121,[17,68,69,73...|  0.0|       0.0|\n",
            "|(121,[17,68,71,73...|  0.0|       0.0|\n",
            "|(121,[17,68,69,76...|  1.0|       0.0|\n",
            "|(121,[1,39,68,69,...|  0.0|       0.0|\n",
            "|(121,[13,67,69,73...|  0.0|       0.0|\n",
            "|(121,[13,67,70,73...|  0.0|       0.0|\n",
            "+--------------------+-----+----------+\n",
            "only showing top 20 rows\n",
            "\n"
          ]
        }
      ],
      "source": [
        "rf = RandomForestClassifier(featuresCol='features', labelCol='label')\n",
        "\n",
        "Model_rf = rf.fit(train_rf_oversampled)\n",
        "\n",
        "Predictions_rf = Model_rf.transform(test_rf)\n",
        "Predictions_rf.select(\"features\", \"label\", \"prediction\").show()"
      ]
    },
    {
      "cell_type": "code",
      "execution_count": null,
      "metadata": {
        "id": "gkfrDXIftgYx",
        "outputId": "ff68cfb0-ed97-41aa-b5e2-03f08e61fd47"
      },
      "outputs": [
        {
          "name": "stdout",
          "output_type": "stream",
          "text": [
            "+--------------------+-----+----------+\n",
            "|            features|label|prediction|\n",
            "+--------------------+-----+----------+\n",
            "|(121,[1,9,67,69,7...|  0.0|       0.0|\n",
            "|(121,[1,44,68,70,...|  0.0|       0.0|\n",
            "|(121,[17,67,69,73...|  0.0|       0.0|\n",
            "|(121,[44,67,70,73...|  0.0|       0.0|\n",
            "|(121,[23,67,69,74...|  0.0|       0.0|\n",
            "|(121,[29,67,69,74...|  0.0|       0.0|\n",
            "|(121,[39,67,69,75...|  0.0|       0.0|\n",
            "|(121,[6,30,67,70,...|  0.0|       0.0|\n",
            "|(121,[58,67,69,73...|  0.0|       0.0|\n",
            "|(121,[10,67,70,74...|  0.0|       0.0|\n",
            "|(121,[50,67,70,73...|  0.0|       0.0|\n",
            "|(121,[36,67,69,74...|  0.0|       0.0|\n",
            "|(121,[44,68,69,73...|  0.0|       0.0|\n",
            "|(121,[58,68,69,73...|  0.0|       0.0|\n",
            "|(121,[17,68,69,73...|  0.0|       0.0|\n",
            "|(121,[17,68,71,73...|  0.0|       0.0|\n",
            "|(121,[17,68,69,76...|  1.0|       1.0|\n",
            "|(121,[1,39,68,69,...|  0.0|       0.0|\n",
            "|(121,[13,67,69,73...|  0.0|       0.0|\n",
            "|(121,[13,67,70,73...|  0.0|       0.0|\n",
            "+--------------------+-----+----------+\n",
            "only showing top 20 rows\n",
            "\n"
          ]
        }
      ],
      "source": [
        "gbt = GBTClassifier(featuresCol='features', labelCol='label')\n",
        "\n",
        "Model_gbt = gbt.fit(train_gbt)\n",
        "\n",
        "Predictions_gbt = Model_gbt.transform(test_gbt)\n",
        "Predictions_gbt.select(\"features\", \"label\", \"prediction\").show()"
      ]
    },
    {
      "cell_type": "markdown",
      "metadata": {
        "id": "8pBEBARitgYx"
      },
      "source": [
        "2.4.2 For both models(RF and GBT) and testing data, write code to display the count of TP/TN/FP/FN. Compute the AUC, accuracy, recall, and precision for the above-threshold/below-threshold label from each model testing result using pyspark MLlib/ML APIs.\n",
        "1. Draw an ROC plot.\n",
        "2. Discuss which one is the better model and use metrics to support your claim (no word limit, please keep it concise)"
      ]
    },
    {
      "cell_type": "code",
      "execution_count": null,
      "metadata": {
        "id": "X_PkMXVptgYy",
        "outputId": "552f142e-21ea-4af2-b62d-fa89279e4074"
      },
      "outputs": [
        {
          "name": "stdout",
          "output_type": "stream",
          "text": [
            "0 53 0 2\n"
          ]
        }
      ],
      "source": [
        "## Random Forest\n",
        "\n",
        "# Calculate the elements of the confusion matrix\n",
        "TN = Predictions_rf.filter('prediction = 0 AND label = 0').count()\n",
        "TP = Predictions_rf.filter('prediction = 1 AND label = 1').count()\n",
        "FN = Predictions_rf.filter('prediction = 0 AND label = 1').count()\n",
        "FP = Predictions_rf.filter('prediction = 1 AND label = 0').count()\n",
        "print(TP,TN,FP,FN)"
      ]
    },
    {
      "cell_type": "code",
      "execution_count": null,
      "metadata": {
        "id": "3QShZVedtgYy"
      },
      "outputs": [],
      "source": [
        "# ## Random Forest\n",
        "#\n",
        "# # Calculate metrics by the confusion matrix\n",
        "# accuracy = (TP + TN)/(TP + TN + FP + FN)\n",
        "# precision = TP/(TP + FP)\n",
        "# recall = TP/(TP + FN)\n",
        "#\n",
        "#\n",
        "# # Display the various metrics calculated above\n",
        "# print(f'''\n",
        "#     Accuracy: {accuracy}\n",
        "#     Precision: {precision}\n",
        "#     Recall: {recall}\n",
        "#     ''')\n",
        "\n",
        "# Due to the imbalanced data, in many cases, the calculation of confusion matrix would result in ZeroDivisionError\n",
        "# I have attempted oversample the records where label = 1, but the result is not ideal"
      ]
    },
    {
      "cell_type": "code",
      "execution_count": null,
      "metadata": {
        "id": "qflGm1BCtgYy",
        "outputId": "659b6c9f-5881-483c-c1d9-0b90b8b223cf"
      },
      "outputs": [
        {
          "name": "stdout",
          "output_type": "stream",
          "text": [
            "0.7547169811320755\n",
            "areaUnderROC\n"
          ]
        }
      ],
      "source": [
        "## Random Forest\n",
        "\n",
        "# Evaluate model by calculating AUC\n",
        "evaluator = BinaryClassificationEvaluator(rawPredictionCol=\"rawPrediction\")\n",
        "auc_rf = evaluator.evaluate(Predictions_rf)\n",
        "\n",
        "print(auc_rf)\n",
        "print(evaluator.getMetricName())"
      ]
    },
    {
      "cell_type": "code",
      "execution_count": null,
      "metadata": {
        "id": "Vgsj_BzatgYz",
        "outputId": "d2c798e2-47a7-4a6f-caf8-bac3b9a032b4"
      },
      "outputs": [
        {
          "name": "stdout",
          "output_type": "stream",
          "text": [
            "1 52 1 1\n"
          ]
        }
      ],
      "source": [
        "## Gradient Boosting Tree\n",
        "\n",
        "# Calculate the elements of the confusion matrix\n",
        "TN = Predictions_gbt.filter('prediction = 0 AND label = 0').count()\n",
        "TP = Predictions_gbt.filter('prediction = 1 AND label = 1').count()\n",
        "FN = Predictions_gbt.filter('prediction = 0 AND label = 1').count()\n",
        "FP = Predictions_gbt.filter('prediction = 1 AND label = 0').count()\n",
        "print(TP,TN,FP,FN)"
      ]
    },
    {
      "cell_type": "code",
      "execution_count": null,
      "metadata": {
        "id": "meDTtFUztgYz",
        "outputId": "49e9c259-457b-429a-87bf-e80b38cbf043"
      },
      "outputs": [
        {
          "name": "stdout",
          "output_type": "stream",
          "text": [
            "\n",
            "    Accuracy: 0.9636363636363636\n",
            "    Precision: 0.5\n",
            "    Recall: 0.5\n",
            "    \n"
          ]
        }
      ],
      "source": [
        "## Gradient Boosting Tree\n",
        "\n",
        "# Calculate metrics by the confusion matrix\n",
        "accuracy = (TP + TN)/(TP + TN + FP + FN)\n",
        "precision = TP/(TP + FP)\n",
        "recall = TP/(TP + FN)\n",
        "\n",
        "\n",
        "# Display the various metrics calculated above\n",
        "print(f'''\n",
        "    Accuracy: {accuracy}\n",
        "    Precision: {precision}\n",
        "    Recall: {recall}\n",
        "    ''')"
      ]
    },
    {
      "cell_type": "code",
      "execution_count": null,
      "metadata": {
        "id": "UldznTYztgY0",
        "outputId": "d5eeed37-baf7-423e-e3ee-71dd56621b3d"
      },
      "outputs": [
        {
          "name": "stdout",
          "output_type": "stream",
          "text": [
            "0.9669811320754718\n",
            "areaUnderROC\n"
          ]
        }
      ],
      "source": [
        "## Gradient Boosting Tree\n",
        "\n",
        "# Evaluate model by calculating AUC\n",
        "evaluator = BinaryClassificationEvaluator(rawPredictionCol=\"rawPrediction\")\n",
        "auc_gbt = evaluator.evaluate(Predictions_gbt)\n",
        "\n",
        "print(auc_gbt)\n",
        "print(evaluator.getMetricName())"
      ]
    },
    {
      "cell_type": "markdown",
      "metadata": {
        "id": "4R6QUI6_tgY1"
      },
      "source": [
        "### Discussion\n",
        "\n",
        "Due to limited computational resources, I am unable to perform hyper parameter tuning. Due to time constraints, I couldn't plot the ROC curves only using PySpark ML packages, therefore I would proceed with the model evaluation with available metrics.\n",
        "\n",
        "The areaUnderROC for random forest model and gradient boosting model are 0.7547 and 0.9670 respectively. In addition, during the training and evaluation process, I noticed the random forest model is heavily impacted by the imbalance label in the dataset, resulting in poor performance.\n",
        "\n",
        "Given the available information, the gradient boosting tree model is the better choice."
      ]
    },
    {
      "cell_type": "markdown",
      "metadata": {
        "id": "CA6D6wyOtgY2"
      },
      "source": [
        "2.4.3 Save the better model, we will need this for Part B of assignment 2.\n",
        "(note: You may need to go through a few training loops, adjust features, use more data and other techniques to create a better-performing model.)"
      ]
    },
    {
      "cell_type": "code",
      "execution_count": null,
      "metadata": {
        "id": "p8Xh-4sotgY2"
      },
      "outputs": [],
      "source": [
        "Model_gbt.save(\"loan_default_prediction_model\")"
      ]
    },
    {
      "cell_type": "markdown",
      "metadata": {
        "id": "j9YHpdsjtgY2"
      },
      "source": [
        "### Part 3. Applicant Segmentation and Knowledge sharing with K-Mean <a class=\"anchor\" name=\"part-3\"></a>  \n",
        "Please see the specification for this task and add code/markdown cells.\n",
        "1. Utilize K-Mean clustering/hyperparameter tuning you have learned in this unit and try to find the optimal K value and train the model.\n",
        "2. Based on your trained model parameters, make recommendations on how to segment the applicants. Write a paragraph with 300 words maximum."
      ]
    },
    {
      "cell_type": "code",
      "execution_count": null,
      "metadata": {
        "id": "0flbAWW6tgY2"
      },
      "outputs": [],
      "source": [
        "# Handle missing values due to the characteristic of k means clustering\n",
        "df_application_cleaned = df_application.na.drop()"
      ]
    },
    {
      "cell_type": "code",
      "execution_count": null,
      "metadata": {
        "id": "lFPncBcRtgY3"
      },
      "outputs": [],
      "source": [
        "numerical_cols = ['num_of_children', 'amt_credit', 'amt_annuity', 'amt_goods_price', 'days_employed', 'own_car_age', 'cnt_fam_members', 'days_last_phone_change', 'amt_credit_req_last_year', 'loan_to_income_ratio', 'num_of_prev_app', 'num_of_approved_app', 'total_credit_to_income_ratio', \"income_bucket\", \"flag_contact\"]\n",
        "\n",
        "# \"income_bucket\", \"flag_contact\" are ordinal value and dont need string indexing or one hot encoding, therefore included in numerical_cols\n",
        "\n",
        "string_cols = ['gender', 'education_type', 'income_type', 'family_status', 'occupation_type', 'own_property']\n",
        "\n",
        "# remove label\n",
        "\n",
        "ordinal_cols = [\"credit_bucket\", \"age_bucket\"]\n",
        "\n",
        "nominal_cols = ['contract_type', 'housing_type', 'organization_type', 'flag_cont_mobile']"
      ]
    },
    {
      "cell_type": "code",
      "execution_count": null,
      "metadata": {
        "id": "qovNT845tgY3"
      },
      "outputs": [],
      "source": [
        "# Define StringIndexer stages\n",
        "indexers = [StringIndexer(inputCol = col, outputCol = col + \"_index\") for col in string_cols + ordinal_cols]\n",
        "\n",
        "# Define OneHotEncoder stages\n",
        "encoders = [OneHotEncoder(inputCols=[col + \"_index\" if col in string_cols else col], outputCols=[col + \"_vec\"]) for col in nominal_cols + string_cols]\n",
        "\n",
        "# Define VectorAssembler stage\n",
        "assembler_cols = [col + \"_vec\" for col in nominal_cols + string_cols] + [col + \"_index\" for col in ordinal_cols] + numerical_cols\n",
        "assembler = VectorAssembler(inputCols=assembler_cols, outputCol=\"features\", handleInvalid=\"skip\")"
      ]
    },
    {
      "cell_type": "code",
      "execution_count": null,
      "metadata": {
        "id": "TjjFKKEGtgY4",
        "outputId": "eeff7e74-026f-4509-cb0e-d284b3556b11"
      },
      "outputs": [
        {
          "name": "stdout",
          "output_type": "stream",
          "text": [
            "+-------------------------------------------------------------------------------------------------------------------------------------------------------------------------------------------------------------------------+\n",
            "|features                                                                                                                                                                                                                 |\n",
            "+-------------------------------------------------------------------------------------------------------------------------------------------------------------------------------------------------------------------------+\n",
            "|(119,[63,67,72,73,80,84,105,106,107,108,109,110,111,112,113,114,115,116,117,118],[1.0,1.0,1.0,1.0,1.0,1.0,308133.0,16713.0,234000.0,-659.0,6.0,1.0,-638.0,1.0,3.2607,2.0,2.0,1.04,3.0,2.0])                              |\n",
            "|(119,[44,68,69,73,79,84,101,102,103,105,106,107,108,109,110,112,113,114,115,116,117,118],[1.0,1.0,1.0,1.0,1.0,1.0,1.0,2.0,2.0,808650.0,26217.0,675000.0,-682.0,16.0,2.0,2.0,8.985,3.0,1.0,1.0,3.0,3.0])                  |\n",
            "|(119,[44,67,69,73,82,84,101,103,104,105,106,107,108,109,110,112,113,114,115,116,117,118],[1.0,1.0,1.0,1.0,1.0,1.0,1.0,2.0,2.0,927000.0,30766.5,927000.0,-1359.0,23.0,3.0,2.0,2.9429,3.0,3.0,0.48,5.0,2.0])               |\n",
            "|(119,[39,68,70,75,79,83,103,105,106,107,108,109,110,111,113,114,115,116,117,118],[1.0,1.0,1.0,1.0,1.0,1.0,3.0,900000.0,26316.0,900000.0,365243.0,22.0,2.0,-358.0,12.5,1.0,1.0,2.23,3.0,2.0])                             |\n",
            "|(119,[17,67,69,73,81,84,102,103,105,106,107,108,109,110,111,113,114,115,116,117,118],[1.0,1.0,1.0,1.0,1.0,1.0,1.0,1.0,337761.0,17815.5,256500.0,-765.0,7.0,2.0,-285.0,1.8765,1.0,1.0,0.52,4.0,2.0])                      |\n",
            "|(119,[44,68,69,73,80,88,101,102,103,105,106,107,108,109,110,111,112,113,114,115,116,117,118],[1.0,1.0,1.0,1.0,1.0,1.0,1.0,1.0,1.0,54000.0,5944.5,54000.0,-530.0,65.0,1.0,-533.0,3.0,0.75,9.0,5.0,4.78,3.0,2.0])          |\n",
            "|(119,[39,67,69,75,79,83,101,103,104,105,106,107,108,109,110,111,112,113,114,115,116,117,118],[1.0,1.0,1.0,1.0,1.0,1.0,1.0,3.0,4.0,1223010.0,51948.0,1125000.0,365243.0,3.0,6.0,-1732.0,3.0,1.9413,10.0,3.0,3.34,5.0,1.0])|\n",
            "|(119,[58,68,70,73,79,88,101,103,105,106,107,108,109,110,111,113,114,115,116,117,118],[1.0,1.0,1.0,1.0,1.0,1.0,1.0,2.0,891072.0,40396.5,720000.0,-2586.0,3.0,2.0,-379.0,3.3003,1.0,1.0,1.13,5.0,2.0])                     |\n",
            "|(119,[44,68,69,73,79,83,101,102,103,104,105,106,107,108,109,110,111,112,113,114,115,116,117,118],[1.0,1.0,1.0,1.0,1.0,1.0,1.0,1.0,1.0,2.0,53910.0,3645.0,45000.0,-852.0,12.0,4.0,-678.0,2.0,0.7488,4.0,2.0,1.25,3.0,4.0])|\n",
            "|(119,[25,67,69,73,79,84,101,105,106,107,108,109,110,111,112,113,114,115,116,117,118],[1.0,1.0,1.0,1.0,1.0,1.0,1.0,351792.0,17055.0,252000.0,-3861.0,8.0,2.0,-615.0,1.0,3.127,2.0,1.0,0.32,3.0,2.0])                      |\n",
            "|(119,[44,67,69,73,79,95,101,104,105,106,107,108,109,110,111,112,113,114,115,116,117,118],[1.0,1.0,1.0,1.0,1.0,1.0,1.0,1.0,258709.5,27990.0,234000.0,-3071.0,12.0,3.0,-752.0,5.0,3.8327,2.0,1.0,1.55,3.0,3.0])            |\n",
            "|(119,[9,67,70,73,79,86,101,105,106,107,108,109,110,111,112,113,114,115,116,117,118],[1.0,1.0,1.0,1.0,1.0,1.0,1.0,1147500.0,45508.5,1147500.0,-2049.0,9.0,2.0,-2714.0,4.0,5.1,5.0,4.0,3.09,5.0,4.0])                      |\n",
            "|(119,[58,67,69,73,79,85,103,105,106,107,108,109,110,111,112,113,114,115,116,117,118],[1.0,1.0,1.0,1.0,1.0,1.0,3.0,923454.0,35910.0,661500.0,-1453.0,17.0,2.0,-1.0,1.0,8.2085,4.0,4.0,6.63,3.0,2.0])                      |\n",
            "|(119,[39,68,69,75,79,83,101,103,105,106,107,108,109,110,111,112,113,114,115,116,117,118],[1.0,1.0,1.0,1.0,1.0,1.0,1.0,3.0,270126.0,13122.0,193500.0,365243.0,20.0,2.0,-1546.0,4.0,1.7151,8.0,7.0,22.91,4.0,1.0])         |\n",
            "|(119,[50,68,69,73,79,88,101,102,103,105,106,107,108,109,110,111,112,113,114,115,116,117,118],[1.0,1.0,1.0,1.0,1.0,1.0,1.0,2.0,2.0,314100.0,13437.0,225000.0,-4440.0,4.0,2.0,-597.0,3.0,3.49,5.0,3.0,1.64,3.0,2.0])       |\n",
            "|(119,[47,68,70,74,79,88,103,104,105,106,107,108,110,111,112,113,114,115,116,117,118],[1.0,1.0,1.0,1.0,1.0,1.0,1.0,2.0,675000.0,26284.5,675000.0,-546.0,4.0,-2632.0,1.0,5.4545,3.0,3.0,2.38,4.0,2.0])                     |\n",
            "|(119,[23,67,69,73,79,84,105,106,107,108,109,110,111,112,113,114,115,116,117,118],[1.0,1.0,1.0,1.0,1.0,1.0,675000.0,37692.0,675000.0,-3014.0,23.0,2.0,-1466.0,3.0,5.3571,3.0,1.0,0.11,4.0,3.0])                           |\n",
            "|(119,[33,67,69,73,79,85,105,106,107,108,109,110,111,112,113,114,115,116,117,118],[1.0,1.0,1.0,1.0,1.0,1.0,979992.0,31743.0,702000.0,-1447.0,2.0,2.0,-584.0,1.0,5.4444,1.0,1.0,1.82,4.0,2.0])                             |\n",
            "|(119,[44,68,70,74,80,85,103,105,106,107,108,109,110,111,112,113,114,115,116,117,118],[1.0,1.0,1.0,1.0,1.0,1.0,1.0,467667.0,23886.0,423000.0,-1661.0,3.0,1.0,-1106.0,1.0,1.2991,2.0,2.0,1.01,5.0,2.0])                    |\n",
            "|(119,[58,68,69,73,79,88,101,103,105,106,107,108,109,110,111,112,113,114,115,116,117,118],[1.0,1.0,1.0,1.0,1.0,1.0,1.0,3.0,900000.0,48955.5,900000.0,-6655.0,9.0,2.0,-127.0,2.0,4.4444,4.0,2.0,0.47,5.0,3.0])             |\n",
            "+-------------------------------------------------------------------------------------------------------------------------------------------------------------------------------------------------------------------------+\n",
            "only showing top 20 rows\n",
            "\n"
          ]
        }
      ],
      "source": [
        "# Create a Pipeline k means clustering\n",
        "pipeline = Pipeline(stages=indexers + encoders + [assembler])\n",
        "\n",
        "# Fit and Transform the DataFrame for k means clustering model\n",
        "pipelineModel = pipeline.fit(df_application_cleaned)\n",
        "df_transformed = pipelineModel.transform(df_application_cleaned)\n",
        "\n",
        "df_transformed.select(\"features\").show(truncate=False)"
      ]
    },
    {
      "cell_type": "code",
      "execution_count": null,
      "metadata": {
        "scrolled": true,
        "id": "Z5lUd7WgtgY5",
        "outputId": "d761237b-951e-47b3-876a-1a1a973cf53a"
      },
      "outputs": [
        {
          "name": "stdout",
          "output_type": "stream",
          "text": [
            "+--------------------+\n",
            "|      scaledFeatures|\n",
            "+--------------------+\n",
            "|(119,[63,67,72,73...|\n",
            "|(119,[44,68,69,73...|\n",
            "|(119,[44,67,69,73...|\n",
            "|(119,[39,68,70,75...|\n",
            "|(119,[17,67,69,73...|\n",
            "+--------------------+\n",
            "only showing top 5 rows\n",
            "\n"
          ]
        }
      ],
      "source": [
        "scaler = StandardScaler(inputCol=\"features\",\n",
        "                        outputCol=\"scaledFeatures\",\n",
        "                        withStd=True,\n",
        "                        withMean=False)\n",
        "\n",
        "# Compute summary statistics by fitting the StandardScaler\n",
        "scalerModel = scaler.fit(df_transformed)\n",
        "\n",
        "# Normalise each feature\n",
        "df_scaled = scalerModel.transform(df_transformed)\n",
        "\n",
        "df_scaled.select('scaledFeatures').show(5)"
      ]
    },
    {
      "cell_type": "markdown",
      "metadata": {
        "id": "lQCYvDOqtgY6"
      },
      "source": [
        "Given k-means clustering is very sensitive to null values, I was unable to clean my dataset as required. Therefore, I cannot make recommendations on how to segment the applicants based on my own observation.\n",
        "\n",
        "However, I have summarised a few guidelines on choosing the optimal number of clustering:\n",
        "- When selecting the number of k, it is important to look at silhouette score, and a high silhouette score would indicate appropriate segmentation\n",
        "- It's also helpful to plot sum of squared errors against k values, and find the point after which the SSE starts to decrease linearly\n",
        "\n",
        "By following the above guidelines, we will be able to find the optimal k value."
      ]
    },
    {
      "cell_type": "markdown",
      "metadata": {
        "id": "o72zCmSItgY6"
      },
      "source": [
        "### Part 4: Data Ethics, Privacy, and Security <a class=\"anchor\" name=\"part-4\"></a>  \n",
        "Please see the specification for this task and add markdown cells(word limit: 500)."
      ]
    },
    {
      "cell_type": "markdown",
      "metadata": {
        "id": "fAnq8SgKtgY7"
      },
      "source": [
        "1. Defining concepts\n",
        "- Data ethics: the process of how we handle data can have a positive or negative impact on our society, especially in the current data driven world. Data ethics requires us to provide sufficient consideration to the social impact when practising data processing.\n",
        "    \n",
        "- Data privacy: when collecting data, it is important to get consent from the owner of the data, and prevent unauthorised parties from accessing personal information.\n",
        "    \n",
        "- Data security: data security is about protecting data from leaking, theft and corruption during the process of data collection and analysing.\n",
        "\n",
        "2. Topic: Examine real-world examples of how data ethics has been handled, positively and negatively.\n",
        "\n",
        "    This topic is inspired by Invisible Women: Data Bias in a World Designed for Men. At the beginning of this book, Caroline Criado Perez introduced the snow cleaning schedule in Sweden as a data bias example. When setting up the schedule, men in the meeting room could not see that by cleaning pedestrian and cyclist paths first, it would reduce snow injuries in winter and save money for local governments. People who make this decision are not trying to be sexist, they are just primarily commuting using vehicles on the main road.\n",
        "    \n",
        "    It is difficult for people in an advantageous position to see the problems faced by those who aren't. This issue becomes more important in today's data driven world. For example, Google's image classification algorithm mistakenly labels the photo of an African couple as gorillas [1]. In the LLM training for generative AI, there are also concerns about reinforcing gender stereotypes when generating marketing content [2].\n",
        "    \n",
        "    However, there are positive scenarios where data ethics is addressed and awareness has been raised, one example is the non-binary option for gender in data collection [3]. By collecting data in a way that reflects real world situations, the data would be able to provide more insights in our analysis.\n",
        "    \n",
        "    By addressing data ethics in data collection and analysing processes, data science can make positive changes in today's data driven world.\n"
      ]
    },
    {
      "cell_type": "markdown",
      "metadata": {
        "id": "n7FThLQbtgY8"
      },
      "source": [
        "## References:\n",
        "Please add your references below:"
      ]
    },
    {
      "cell_type": "markdown",
      "metadata": {
        "id": "xiCShSfUtgY8"
      },
      "source": [
        "[1] Grant, N., & Hill, K. (2023, May 22). Google’s Photo App Still Can’t Find Gorillas. And Neither Can Apple’s. The New York Times.\n",
        "\n",
        "[2] Moni, S. (2023, July 25). Overcoming Algorithmic Gender Bias In AI-Generated Marketing Content. Forbes.\n",
        "\n",
        "[3] Australian Bureau of Statistics. (2022, September 27). Analysis of non-binary sex responses. ABS. https://www.abs.gov.au/articles/analysis-non-binary-sex-responses.\n",
        "\n",
        "[4] (n.d.). How to perform up-sampling using sample() function(py-spark). Stackoverflow. Retrieved February 2, 2024, from https://stackoverflow.com/questions/53273133/how-to-perform-up-sampling-using-sample-functionpy-spark"
      ]
    }
  ],
  "metadata": {
    "kernelspec": {
      "display_name": "Python 3 (ipykernel)",
      "language": "python",
      "name": "python3"
    },
    "language_info": {
      "codemirror_mode": {
        "name": "ipython",
        "version": 3
      },
      "file_extension": ".py",
      "mimetype": "text/x-python",
      "name": "python",
      "nbconvert_exporter": "python",
      "pygments_lexer": "ipython3",
      "version": "3.10.13"
    },
    "colab": {
      "provenance": []
    }
  },
  "nbformat": 4,
  "nbformat_minor": 0
}